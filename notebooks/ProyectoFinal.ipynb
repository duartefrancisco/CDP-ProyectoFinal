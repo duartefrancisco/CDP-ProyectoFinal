{
 "cells": [
  {
   "cell_type": "markdown",
   "id": "2846f14a-7cd1-4417-bbb7-1444c2a8ec94",
   "metadata": {},
   "source": [
    "# Proyeco Final - Ciencia De Datos En Python - Universidad Galileo\n",
    "##### Francisco Duarte - 17001004"
   ]
  },
  {
   "cell_type": "markdown",
   "id": "4842fc8d-3185-49a9-9fcb-baaa5ec1c393",
   "metadata": {},
   "source": [
    "## Scope\n",
    "El proyecto es sobre las importaciones de vehículos a Guatemala durante el 2022, a la fecha de realziación de este proyecto solamente se cuenta con los datos para los meses de enero y febrero. Estos datos fueron obtenidos desde el portal de la Superintendencia de Administración Tributaria (SAT), son dos archivos extensión .txt, los datos se encuentra sperados por el símbolo \"|\"; pero se convertieron a csv para una mejor compatibilidad con workbench. Se realizó otro archivo que contiene las aduanas, estas fueron copiadas desde una tabla del portal de la SAT.\n",
    "\n",
    "Para objetivos del proyectos uno de los archivos se importará a una base de datos en el servicio RDS de AWS, y los otros dos estarán alojadas en un contedor S3 de AWS. Se utilizará librerías como pandas para el proceso de de ETL, se construirá un datawarehouse para almacenar los datos ya procesados y se alojarán en un Redshift de AWS. RDS tendrá los datos para enero 2022 y S3 febrero 2022 y las aduanas"
   ]
  },
  {
   "cell_type": "markdown",
   "id": "eab50c63-f781-4907-8b26-dcbf7cb17749",
   "metadata": {},
   "source": [
    "## Exploración"
   ]
  },
  {
   "cell_type": "markdown",
   "id": "cc3e4f58-5dc0-4a36-99ce-b4b64f9917f3",
   "metadata": {},
   "source": [
    "##### import necesarios"
   ]
  },
  {
   "cell_type": "code",
   "execution_count": 1,
   "id": "9e69fc7c-6b0e-4f09-8331-69b5215df3ee",
   "metadata": {},
   "outputs": [],
   "source": [
    "%load_ext sql"
   ]
  },
  {
   "cell_type": "code",
   "execution_count": 2,
   "id": "32bb7f13-40c2-4491-b5c7-5ff3d37163bf",
   "metadata": {},
   "outputs": [],
   "source": [
    "import pandas as pd\n",
    "import os\n",
    "import configparser\n",
    "import sys\n",
    "import boto3\n",
    "from sqlalchemy import create_engine"
   ]
  },
  {
   "cell_type": "markdown",
   "id": "6fe14ee4-1c8a-4226-9e5f-9e26014986c5",
   "metadata": {},
   "source": [
    "### Conexiones"
   ]
  },
  {
   "cell_type": "code",
   "execution_count": 3,
   "id": "80e9398b-f75d-4884-a854-8fbb46107072",
   "metadata": {},
   "outputs": [],
   "source": [
    "#Cargando el archivo de configuracion\n",
    "config = configparser.ConfigParser()\n",
    "config.read_file(open(\"config.cfg\"))"
   ]
  },
  {
   "cell_type": "code",
   "execution_count": 4,
   "id": "b4408f1e-a262-401b-9c4e-1685fde65b33",
   "metadata": {},
   "outputs": [],
   "source": [
    "#Conexión a la base de datos en RDS\n",
    "mysql_connection = \"mysql+pymysql://{}:{}@{}/{}\".format(\n",
    "config.get(\"RDS\", \"DB_USER\"),\n",
    "config.get(\"RDS\", \"DB_PASSWORD\"),\n",
    "config.get(\"RDS\", \"DB_HOST\"),\n",
    "config.get(\"RDS\", \"DB_NAME\"))"
   ]
  },
  {
   "cell_type": "code",
   "execution_count": 5,
   "id": "67456380-0230-44e6-b44e-8d605a9ede7d",
   "metadata": {},
   "outputs": [
    {
     "data": {
      "text/plain": [
       "'Connected: admin@importacion-vehiculos'"
      ]
     },
     "execution_count": 5,
     "metadata": {},
     "output_type": "execute_result"
    }
   ],
   "source": [
    "%sql $mysql_connection"
   ]
  },
  {
   "cell_type": "code",
   "execution_count": 47,
   "id": "1ccb65ed-6931-49fa-b863-426a1badd6b8",
   "metadata": {},
   "outputs": [],
   "source": [
    "#Conexión al datawarehouse en Redshift\n",
    "redshift_connection = \"postgresql://{}:{}@{}:{}/{}\".format(\n",
    "config.get(\"Redshift\", \"DB_USER\"),\n",
    "config.get(\"Redshift\", \"DB_PASSWORD\"),\n",
    "config.get(\"Redshift\", \"DB_HOST\"),\n",
    "config.get(\"Redshift\", \"DB_PORT\"),\n",
    "config.get(\"Redshift\", \"DB_NAME\"))"
   ]
  },
  {
   "cell_type": "code",
   "execution_count": 48,
   "id": "90bd5289-f007-4310-9033-c36cdbb9ede7",
   "metadata": {},
   "outputs": [
    {
     "data": {
      "text/plain": [
       "'Connected: awsuser@dev'"
      ]
     },
     "execution_count": 48,
     "metadata": {},
     "output_type": "execute_result"
    }
   ],
   "source": [
    "%sql $redshift_connection"
   ]
  },
  {
   "cell_type": "code",
   "execution_count": 6,
   "id": "41f75633-5d2e-480d-b7f5-2a2c0fec0cbc",
   "metadata": {},
   "outputs": [],
   "source": [
    "#Conexión a S3\n",
    "s3_connection = boto3.resource(\n",
    "service_name = \"s3\",\n",
    "region_name = config.get(\"S3\", \"REGION\"),\n",
    "aws_access_key_id = config.get(\"S3\", \"ACCESS\"),\n",
    "aws_secret_access_key = config.get(\"S3\", \"SECRET\"))"
   ]
  },
  {
   "cell_type": "markdown",
   "id": "45baec38-d060-440c-a29f-21dbf644646b",
   "metadata": {},
   "source": [
    "### Obteniendo los datos desde RDS y S3"
   ]
  },
  {
   "cell_type": "markdown",
   "id": "196eca9f-082b-4c71-8f60-25f4040e977a",
   "metadata": {},
   "source": [
    "#### RDS"
   ]
  },
  {
   "cell_type": "code",
   "execution_count": 7,
   "id": "fe1130d8-bb04-4174-a4bf-c735940fc762",
   "metadata": {},
   "outputs": [
    {
     "data": {
      "text/html": [
       "<div>\n",
       "<style scoped>\n",
       "    .dataframe tbody tr th:only-of-type {\n",
       "        vertical-align: middle;\n",
       "    }\n",
       "\n",
       "    .dataframe tbody tr th {\n",
       "        vertical-align: top;\n",
       "    }\n",
       "\n",
       "    .dataframe thead th {\n",
       "        text-align: right;\n",
       "    }\n",
       "</style>\n",
       "<table border=\"1\" class=\"dataframe\">\n",
       "  <thead>\n",
       "    <tr style=\"text-align: right;\">\n",
       "      <th></th>\n",
       "      <th>Pais de Proveniencia</th>\n",
       "      <th>Aduana de Ingreso</th>\n",
       "      <th>Fecha de la Poliza</th>\n",
       "      <th>Partida Arancelaria</th>\n",
       "      <th>Modelo del Vehiculo</th>\n",
       "      <th>Marca</th>\n",
       "      <th>Linea</th>\n",
       "      <th>Centimetros Cubicos</th>\n",
       "      <th>Distintivo</th>\n",
       "      <th>Tipo de Vehiculo</th>\n",
       "      <th>Tipo de Importador</th>\n",
       "      <th>Tipo Combustible</th>\n",
       "      <th>Asientos</th>\n",
       "      <th>Puertas</th>\n",
       "      <th>Tonelaje</th>\n",
       "      <th>Valor CIF</th>\n",
       "      <th>Impuesto</th>\n",
       "    </tr>\n",
       "  </thead>\n",
       "  <tbody>\n",
       "    <tr>\n",
       "      <th>0</th>\n",
       "      <td>CHINA</td>\n",
       "      <td>PUERTO QUETZAL</td>\n",
       "      <td>18/01/2022</td>\n",
       "      <td>8711209000</td>\n",
       "      <td>2022</td>\n",
       "      <td>YAMAHA</td>\n",
       "      <td>T110C</td>\n",
       "      <td>110.0</td>\n",
       "      <td>LIVIANO</td>\n",
       "      <td>MOTO</td>\n",
       "      <td>DISTRIBUIDOR</td>\n",
       "      <td>GASOLINA</td>\n",
       "      <td>2</td>\n",
       "      <td>0</td>\n",
       "      <td>0</td>\n",
       "      <td>767777.85</td>\n",
       "      <td>92133.34</td>\n",
       "    </tr>\n",
       "    <tr>\n",
       "      <th>1</th>\n",
       "      <td>CHINA</td>\n",
       "      <td>PUERTO QUETZAL</td>\n",
       "      <td>18/01/2022</td>\n",
       "      <td>8711209000</td>\n",
       "      <td>2022</td>\n",
       "      <td>YAMAHA</td>\n",
       "      <td>T110C</td>\n",
       "      <td>110.0</td>\n",
       "      <td>LIVIANO</td>\n",
       "      <td>MOTO</td>\n",
       "      <td>DISTRIBUIDOR</td>\n",
       "      <td>GASOLINA</td>\n",
       "      <td>2</td>\n",
       "      <td>0</td>\n",
       "      <td>0</td>\n",
       "      <td>767777.85</td>\n",
       "      <td>92133.34</td>\n",
       "    </tr>\n",
       "    <tr>\n",
       "      <th>2</th>\n",
       "      <td>CHINA</td>\n",
       "      <td>PUERTO QUETZAL</td>\n",
       "      <td>18/01/2022</td>\n",
       "      <td>8711209000</td>\n",
       "      <td>2022</td>\n",
       "      <td>YAMAHA</td>\n",
       "      <td>T110C</td>\n",
       "      <td>110.0</td>\n",
       "      <td>LIVIANO</td>\n",
       "      <td>MOTO</td>\n",
       "      <td>DISTRIBUIDOR</td>\n",
       "      <td>GASOLINA</td>\n",
       "      <td>2</td>\n",
       "      <td>0</td>\n",
       "      <td>0</td>\n",
       "      <td>767777.85</td>\n",
       "      <td>92133.34</td>\n",
       "    </tr>\n",
       "    <tr>\n",
       "      <th>3</th>\n",
       "      <td>CHINA</td>\n",
       "      <td>PUERTO QUETZAL</td>\n",
       "      <td>18/01/2022</td>\n",
       "      <td>8711209000</td>\n",
       "      <td>2022</td>\n",
       "      <td>YAMAHA</td>\n",
       "      <td>T110C</td>\n",
       "      <td>110.0</td>\n",
       "      <td>LIVIANO</td>\n",
       "      <td>MOTO</td>\n",
       "      <td>DISTRIBUIDOR</td>\n",
       "      <td>GASOLINA</td>\n",
       "      <td>2</td>\n",
       "      <td>0</td>\n",
       "      <td>0</td>\n",
       "      <td>767777.85</td>\n",
       "      <td>92133.34</td>\n",
       "    </tr>\n",
       "    <tr>\n",
       "      <th>4</th>\n",
       "      <td>CHINA</td>\n",
       "      <td>PUERTO QUETZAL</td>\n",
       "      <td>18/01/2022</td>\n",
       "      <td>8711209000</td>\n",
       "      <td>2022</td>\n",
       "      <td>YAMAHA</td>\n",
       "      <td>T110C</td>\n",
       "      <td>110.0</td>\n",
       "      <td>LIVIANO</td>\n",
       "      <td>MOTO</td>\n",
       "      <td>DISTRIBUIDOR</td>\n",
       "      <td>GASOLINA</td>\n",
       "      <td>2</td>\n",
       "      <td>0</td>\n",
       "      <td>0</td>\n",
       "      <td>767777.85</td>\n",
       "      <td>92133.34</td>\n",
       "    </tr>\n",
       "  </tbody>\n",
       "</table>\n",
       "</div>"
      ],
      "text/plain": [
       "  Pais de Proveniencia Aduana de Ingreso Fecha de la Poliza  \\\n",
       "0                CHINA    PUERTO QUETZAL         18/01/2022   \n",
       "1                CHINA    PUERTO QUETZAL         18/01/2022   \n",
       "2                CHINA    PUERTO QUETZAL         18/01/2022   \n",
       "3                CHINA    PUERTO QUETZAL         18/01/2022   \n",
       "4                CHINA    PUERTO QUETZAL         18/01/2022   \n",
       "\n",
       "   Partida Arancelaria  Modelo del Vehiculo   Marca  Linea  \\\n",
       "0           8711209000                 2022  YAMAHA  T110C   \n",
       "1           8711209000                 2022  YAMAHA  T110C   \n",
       "2           8711209000                 2022  YAMAHA  T110C   \n",
       "3           8711209000                 2022  YAMAHA  T110C   \n",
       "4           8711209000                 2022  YAMAHA  T110C   \n",
       "\n",
       "   Centimetros Cubicos Distintivo Tipo de Vehiculo Tipo de Importador  \\\n",
       "0                110.0    LIVIANO             MOTO       DISTRIBUIDOR   \n",
       "1                110.0    LIVIANO             MOTO       DISTRIBUIDOR   \n",
       "2                110.0    LIVIANO             MOTO       DISTRIBUIDOR   \n",
       "3                110.0    LIVIANO             MOTO       DISTRIBUIDOR   \n",
       "4                110.0    LIVIANO             MOTO       DISTRIBUIDOR   \n",
       "\n",
       "  Tipo Combustible  Asientos  Puertas  Tonelaje  Valor CIF  Impuesto  \n",
       "0         GASOLINA         2        0         0  767777.85  92133.34  \n",
       "1         GASOLINA         2        0         0  767777.85  92133.34  \n",
       "2         GASOLINA         2        0         0  767777.85  92133.34  \n",
       "3         GASOLINA         2        0         0  767777.85  92133.34  \n",
       "4         GASOLINA         2        0         0  767777.85  92133.34  "
      ]
     },
     "execution_count": 7,
     "metadata": {},
     "output_type": "execute_result"
    }
   ],
   "source": [
    "rds_importacion_select = \"SELECT * FROM importacion;\"\n",
    "dfImportacionRDS = pd.read_sql(rds_importacion_select, mysql_connection)\n",
    "dfImportacionRDS.head()"
   ]
  },
  {
   "cell_type": "markdown",
   "id": "847449d0-e570-460a-b0a3-6e9c4d87d158",
   "metadata": {},
   "source": [
    "#### S3"
   ]
  },
  {
   "cell_type": "code",
   "execution_count": 9,
   "id": "3d71e4c3-8a5f-42b9-a218-9288abeb43ab",
   "metadata": {},
   "outputs": [
    {
     "name": "stderr",
     "output_type": "stream",
     "text": [
      "/var/folders/hh/25c_zdz92t9c70mlh69s5tg80000gn/T/ipykernel_887/974039967.py:11: FutureWarning: The frame.append method is deprecated and will be removed from pandas in a future version. Use pandas.concat instead.\n",
      "  dfAduanasS3 = dfAduanasS3.append(data)\n",
      "/var/folders/hh/25c_zdz92t9c70mlh69s5tg80000gn/T/ipykernel_887/974039967.py:8: FutureWarning: The frame.append method is deprecated and will be removed from pandas in a future version. Use pandas.concat instead.\n",
      "  dfImportacionS3 = dfImportacionS3.append(data)\n"
     ]
    }
   ],
   "source": [
    "dfImportacionS3 = pd.DataFrame()\n",
    "dfAduanasS3 = pd.DataFrame()\n",
    "\n",
    "for remoteFile in s3_connection.Bucket(config.get(\"S3\", \"BUCKET_NAME\")).objects.all():\n",
    "    file = s3_connection.Bucket(config.get(\"S3\", \"BUCKET_NAME\")).Object(remoteFile.key).get()\n",
    "    if(\"importacion\" in remoteFile.key):\n",
    "       data = pd.read_csv(file[\"Body\"], delimiter = \"|\")\n",
    "       dfImportacionS3 = dfImportacionS3.append(data)\n",
    "    else:\n",
    "       data = pd.read_csv(file[\"Body\"], delimiter = \";\")\n",
    "       dfAduanasS3 = dfAduanasS3.append(data)"
   ]
  },
  {
   "cell_type": "code",
   "execution_count": 11,
   "id": "dddc2a54-845c-4a8b-a3e7-fa77e54cd3af",
   "metadata": {},
   "outputs": [
    {
     "data": {
      "text/html": [
       "<div>\n",
       "<style scoped>\n",
       "    .dataframe tbody tr th:only-of-type {\n",
       "        vertical-align: middle;\n",
       "    }\n",
       "\n",
       "    .dataframe tbody tr th {\n",
       "        vertical-align: top;\n",
       "    }\n",
       "\n",
       "    .dataframe thead th {\n",
       "        text-align: right;\n",
       "    }\n",
       "</style>\n",
       "<table border=\"1\" class=\"dataframe\">\n",
       "  <thead>\n",
       "    <tr style=\"text-align: right;\">\n",
       "      <th></th>\n",
       "      <th>Pais de Proveniencia</th>\n",
       "      <th>Aduana de Ingreso</th>\n",
       "      <th>Fecha de la Poliza</th>\n",
       "      <th>Partida Arancelaria</th>\n",
       "      <th>Modelo del Vehiculo</th>\n",
       "      <th>Marca</th>\n",
       "      <th>Linea</th>\n",
       "      <th>Centimetros Cubicos</th>\n",
       "      <th>Distintivo</th>\n",
       "      <th>Tipo de Vehiculo</th>\n",
       "      <th>Tipo de Importador</th>\n",
       "      <th>Tipo Combustible</th>\n",
       "      <th>Asientos</th>\n",
       "      <th>Puertas</th>\n",
       "      <th>Tonelaje</th>\n",
       "      <th>Valor CIF</th>\n",
       "      <th>Impuesto</th>\n",
       "      <th>Unnamed: 17</th>\n",
       "    </tr>\n",
       "  </thead>\n",
       "  <tbody>\n",
       "    <tr>\n",
       "      <th>0</th>\n",
       "      <td>INDIA</td>\n",
       "      <td>PUERTO QUETZAL</td>\n",
       "      <td>08/02/2022</td>\n",
       "      <td>8711209000</td>\n",
       "      <td>2023</td>\n",
       "      <td>TVS</td>\n",
       "      <td>APACHE RTR 160</td>\n",
       "      <td>159.0</td>\n",
       "      <td>LIVIANO</td>\n",
       "      <td>MOTO</td>\n",
       "      <td>DISTRIBUIDOR</td>\n",
       "      <td>GASOLINA</td>\n",
       "      <td>2</td>\n",
       "      <td>0</td>\n",
       "      <td>0.0</td>\n",
       "      <td>1389415.13</td>\n",
       "      <td>166729.82</td>\n",
       "      <td>NaN</td>\n",
       "    </tr>\n",
       "    <tr>\n",
       "      <th>1</th>\n",
       "      <td>INDIA</td>\n",
       "      <td>PUERTO QUETZAL</td>\n",
       "      <td>08/02/2022</td>\n",
       "      <td>8711209000</td>\n",
       "      <td>2023</td>\n",
       "      <td>TVS</td>\n",
       "      <td>APACHE RTR 160</td>\n",
       "      <td>159.0</td>\n",
       "      <td>LIVIANO</td>\n",
       "      <td>MOTO</td>\n",
       "      <td>DISTRIBUIDOR</td>\n",
       "      <td>GASOLINA</td>\n",
       "      <td>2</td>\n",
       "      <td>0</td>\n",
       "      <td>0.0</td>\n",
       "      <td>1389415.13</td>\n",
       "      <td>166729.82</td>\n",
       "      <td>NaN</td>\n",
       "    </tr>\n",
       "    <tr>\n",
       "      <th>2</th>\n",
       "      <td>INDIA</td>\n",
       "      <td>PUERTO QUETZAL</td>\n",
       "      <td>08/02/2022</td>\n",
       "      <td>8711209000</td>\n",
       "      <td>2023</td>\n",
       "      <td>TVS</td>\n",
       "      <td>APACHE RTR 160</td>\n",
       "      <td>159.0</td>\n",
       "      <td>LIVIANO</td>\n",
       "      <td>MOTO</td>\n",
       "      <td>DISTRIBUIDOR</td>\n",
       "      <td>GASOLINA</td>\n",
       "      <td>2</td>\n",
       "      <td>0</td>\n",
       "      <td>0.0</td>\n",
       "      <td>1389415.13</td>\n",
       "      <td>166729.82</td>\n",
       "      <td>NaN</td>\n",
       "    </tr>\n",
       "    <tr>\n",
       "      <th>3</th>\n",
       "      <td>INDIA</td>\n",
       "      <td>PUERTO QUETZAL</td>\n",
       "      <td>08/02/2022</td>\n",
       "      <td>8711209000</td>\n",
       "      <td>2023</td>\n",
       "      <td>TVS</td>\n",
       "      <td>APACHE RTR 160</td>\n",
       "      <td>159.0</td>\n",
       "      <td>LIVIANO</td>\n",
       "      <td>MOTO</td>\n",
       "      <td>DISTRIBUIDOR</td>\n",
       "      <td>GASOLINA</td>\n",
       "      <td>2</td>\n",
       "      <td>0</td>\n",
       "      <td>0.0</td>\n",
       "      <td>1389415.13</td>\n",
       "      <td>166729.82</td>\n",
       "      <td>NaN</td>\n",
       "    </tr>\n",
       "    <tr>\n",
       "      <th>4</th>\n",
       "      <td>INDIA</td>\n",
       "      <td>PUERTO QUETZAL</td>\n",
       "      <td>08/02/2022</td>\n",
       "      <td>8711209000</td>\n",
       "      <td>2023</td>\n",
       "      <td>TVS</td>\n",
       "      <td>APACHE RTR 160</td>\n",
       "      <td>159.0</td>\n",
       "      <td>LIVIANO</td>\n",
       "      <td>MOTO</td>\n",
       "      <td>DISTRIBUIDOR</td>\n",
       "      <td>GASOLINA</td>\n",
       "      <td>2</td>\n",
       "      <td>0</td>\n",
       "      <td>0.0</td>\n",
       "      <td>1389415.13</td>\n",
       "      <td>166729.82</td>\n",
       "      <td>NaN</td>\n",
       "    </tr>\n",
       "  </tbody>\n",
       "</table>\n",
       "</div>"
      ],
      "text/plain": [
       "  Pais de Proveniencia Aduana de Ingreso  Fecha de la Poliza  \\\n",
       "0                INDIA    PUERTO QUETZAL          08/02/2022   \n",
       "1                INDIA    PUERTO QUETZAL          08/02/2022   \n",
       "2                INDIA    PUERTO QUETZAL          08/02/2022   \n",
       "3                INDIA    PUERTO QUETZAL          08/02/2022   \n",
       "4                INDIA    PUERTO QUETZAL          08/02/2022   \n",
       "\n",
       "   Partida Arancelaria  Modelo del Vehiculo Marca           Linea  \\\n",
       "0           8711209000                 2023   TVS  APACHE RTR 160   \n",
       "1           8711209000                 2023   TVS  APACHE RTR 160   \n",
       "2           8711209000                 2023   TVS  APACHE RTR 160   \n",
       "3           8711209000                 2023   TVS  APACHE RTR 160   \n",
       "4           8711209000                 2023   TVS  APACHE RTR 160   \n",
       "\n",
       "   Centimetros Cubicos Distintivo Tipo de Vehiculo Tipo de Importador  \\\n",
       "0                159.0    LIVIANO             MOTO       DISTRIBUIDOR   \n",
       "1                159.0    LIVIANO             MOTO       DISTRIBUIDOR   \n",
       "2                159.0    LIVIANO             MOTO       DISTRIBUIDOR   \n",
       "3                159.0    LIVIANO             MOTO       DISTRIBUIDOR   \n",
       "4                159.0    LIVIANO             MOTO       DISTRIBUIDOR   \n",
       "\n",
       "  Tipo Combustible  Asientos  Puertas  Tonelaje   Valor CIF   Impuesto  \\\n",
       "0         GASOLINA         2        0       0.0  1389415.13  166729.82   \n",
       "1         GASOLINA         2        0       0.0  1389415.13  166729.82   \n",
       "2         GASOLINA         2        0       0.0  1389415.13  166729.82   \n",
       "3         GASOLINA         2        0       0.0  1389415.13  166729.82   \n",
       "4         GASOLINA         2        0       0.0  1389415.13  166729.82   \n",
       "\n",
       "   Unnamed: 17  \n",
       "0          NaN  \n",
       "1          NaN  \n",
       "2          NaN  \n",
       "3          NaN  \n",
       "4          NaN  "
      ]
     },
     "execution_count": 11,
     "metadata": {},
     "output_type": "execute_result"
    }
   ],
   "source": [
    "dfImportacionS3.head()"
   ]
  },
  {
   "cell_type": "code",
   "execution_count": 12,
   "id": "93dbfd0a-7df1-45d4-a8da-dde607d9c91e",
   "metadata": {},
   "outputs": [
    {
     "data": {
      "text/html": [
       "<div>\n",
       "<style scoped>\n",
       "    .dataframe tbody tr th:only-of-type {\n",
       "        vertical-align: middle;\n",
       "    }\n",
       "\n",
       "    .dataframe tbody tr th {\n",
       "        vertical-align: top;\n",
       "    }\n",
       "\n",
       "    .dataframe thead th {\n",
       "        text-align: right;\n",
       "    }\n",
       "</style>\n",
       "<table border=\"1\" class=\"dataframe\">\n",
       "  <thead>\n",
       "    <tr style=\"text-align: right;\">\n",
       "      <th></th>\n",
       "      <th>Aduanas</th>\n",
       "      <th>Es Almacenadora</th>\n",
       "    </tr>\n",
       "  </thead>\n",
       "  <tbody>\n",
       "    <tr>\n",
       "      <th>0</th>\n",
       "      <td>Aduana Tecún Umán 1</td>\n",
       "      <td>NaN</td>\n",
       "    </tr>\n",
       "    <tr>\n",
       "      <th>1</th>\n",
       "      <td>Aduana Integrada Agua Caliente</td>\n",
       "      <td>NaN</td>\n",
       "    </tr>\n",
       "    <tr>\n",
       "      <th>2</th>\n",
       "      <td>Aduana Integrada Corinto</td>\n",
       "      <td>NaN</td>\n",
       "    </tr>\n",
       "    <tr>\n",
       "      <th>3</th>\n",
       "      <td>Aduana Integrada El Florido</td>\n",
       "      <td>NaN</td>\n",
       "    </tr>\n",
       "    <tr>\n",
       "      <th>4</th>\n",
       "      <td>Aduana Puerto Quetzal</td>\n",
       "      <td>NaN</td>\n",
       "    </tr>\n",
       "  </tbody>\n",
       "</table>\n",
       "</div>"
      ],
      "text/plain": [
       "                          Aduanas Es Almacenadora\n",
       "0             Aduana Tecún Umán 1             NaN\n",
       "1  Aduana Integrada Agua Caliente             NaN\n",
       "2        Aduana Integrada Corinto             NaN\n",
       "3     Aduana Integrada El Florido             NaN\n",
       "4           Aduana Puerto Quetzal             NaN"
      ]
     },
     "execution_count": 12,
     "metadata": {},
     "output_type": "execute_result"
    }
   ],
   "source": [
    "dfAduanasS3.head()"
   ]
  },
  {
   "cell_type": "markdown",
   "id": "82f5800f-4671-46de-8d55-784d2f918f28",
   "metadata": {},
   "source": [
    "#### Explorando los datos obtenidos"
   ]
  },
  {
   "cell_type": "markdown",
   "id": "35a23fa0-63b2-4256-812a-750932109284",
   "metadata": {},
   "source": [
    "##### Conteo de los dataframe"
   ]
  },
  {
   "cell_type": "code",
   "execution_count": 13,
   "id": "399ec635-ada1-4cea-a1c2-a3dd37f99f43",
   "metadata": {},
   "outputs": [
    {
     "data": {
      "text/plain": [
       "Pais de Proveniencia    38988\n",
       "Aduana de Ingreso       38988\n",
       "Fecha de la Poliza      38988\n",
       "Partida Arancelaria     38988\n",
       "Modelo del Vehiculo     38988\n",
       "Marca                   38988\n",
       "Linea                   38988\n",
       "Centimetros Cubicos     38983\n",
       "Distintivo              37565\n",
       "Tipo de Vehiculo        38988\n",
       "Tipo de Importador      38988\n",
       "Tipo Combustible        38988\n",
       "Asientos                38988\n",
       "Puertas                 38988\n",
       "Tonelaje                38988\n",
       "Valor CIF               38988\n",
       "Impuesto                38988\n",
       "dtype: int64"
      ]
     },
     "execution_count": 13,
     "metadata": {},
     "output_type": "execute_result"
    }
   ],
   "source": [
    "dfImportacionRDS.count()"
   ]
  },
  {
   "cell_type": "code",
   "execution_count": 14,
   "id": "a1ad8ca2-4cee-4349-b45b-1ba7c8ef7b70",
   "metadata": {},
   "outputs": [
    {
     "data": {
      "text/plain": [
       "Pais de Proveniencia    37462\n",
       "Aduana de Ingreso       37462\n",
       " Fecha de la Poliza     37462\n",
       "Partida Arancelaria     37462\n",
       "Modelo del Vehiculo     37462\n",
       "Marca                   37462\n",
       "Linea                   37462\n",
       "Centimetros Cubicos     37453\n",
       "Distintivo              37308\n",
       "Tipo de Vehiculo        37462\n",
       "Tipo de Importador      37462\n",
       "Tipo Combustible        37462\n",
       "Asientos                37462\n",
       "Puertas                 37462\n",
       "Tonelaje                37462\n",
       "Valor CIF               37462\n",
       "Impuesto                37462\n",
       "Unnamed: 17                 0\n",
       "dtype: int64"
      ]
     },
     "execution_count": 14,
     "metadata": {},
     "output_type": "execute_result"
    }
   ],
   "source": [
    "dfImportacionS3.count()"
   ]
  },
  {
   "cell_type": "code",
   "execution_count": 15,
   "id": "07bccd83-530b-46ea-a545-c83dd7436662",
   "metadata": {},
   "outputs": [
    {
     "data": {
      "text/plain": [
       "Aduanas            31\n",
       "Es Almacenadora     8\n",
       "dtype: int64"
      ]
     },
     "execution_count": 15,
     "metadata": {},
     "output_type": "execute_result"
    }
   ],
   "source": [
    "dfAduanasS3.count()"
   ]
  },
  {
   "cell_type": "markdown",
   "id": "fd167290-24ce-4af5-844f-9d3ac0ccc629",
   "metadata": {},
   "source": [
    "##### Valors distintos columna País de proviniencia"
   ]
  },
  {
   "cell_type": "code",
   "execution_count": 16,
   "id": "1315bf4d-6a8b-42cb-a365-27252bde0f4f",
   "metadata": {},
   "outputs": [
    {
     "data": {
      "text/plain": [
       "array(['CHINA', 'INDIA', 'CANADA', 'ARGENTINA', 'COREA DEL SUR',\n",
       "       'ESTADOS UNIDOS', 'JAPON', 'REINO UNIDO', 'MEXICO', 'TAILANDIA',\n",
       "       'ITALIA', 'BRASIL', 'ALEMANIA REP. FED.', 'INDONESIA', 'SUECIA',\n",
       "       'FRANCIA', 'BELICE', 'TAIWAN', 'HUNGRIA', 'BELGICA', 'AUSTRIA',\n",
       "       'SUDAFRICA', 'COMOROS', 'TURQUIA', 'SLOVAKIA', 'AUSTRALIA',\n",
       "       'IRLANDA', 'ESPANA', 'COLOMBIA'], dtype=object)"
      ]
     },
     "execution_count": 16,
     "metadata": {},
     "output_type": "execute_result"
    }
   ],
   "source": [
    "dfImportacionRDS[\"Pais de Proveniencia\"].unique()"
   ]
  },
  {
   "cell_type": "code",
   "execution_count": 17,
   "id": "97089ab8-5511-41a8-a90a-90ebcc1392af",
   "metadata": {},
   "outputs": [
    {
     "data": {
      "text/plain": [
       "array(['INDIA', 'ESTADOS UNIDOS', 'CANADA', 'JAPON', 'CHINA',\n",
       "       'REINO UNIDO', 'FRANCIA', 'ALEMANIA REP. FED.', 'ITALIA', 'MEXICO',\n",
       "       'BELICE', 'COREA DEL SUR', 'BRASIL', 'INDONESIA', 'TAILANDIA',\n",
       "       'U.R.S.S.', 'SUECIA', 'TAIWAN', 'AUSTRIA', 'AUSTRALIA', 'SUIZA',\n",
       "       'ESPANA', 'KENYA', 'TURQUIA', 'SLOVAKIA', 'BELGICA', 'ARGENTINA',\n",
       "       'HUNGRIA', 'PANAMA'], dtype=object)"
      ]
     },
     "execution_count": 17,
     "metadata": {},
     "output_type": "execute_result"
    }
   ],
   "source": [
    "dfImportacionS3[\"Pais de Proveniencia\"].unique()"
   ]
  },
  {
   "cell_type": "markdown",
   "id": "309eff03-8071-4eee-bd68-c2659a8a313f",
   "metadata": {},
   "source": [
    "##### Valores distintos Aduana ingreso"
   ]
  },
  {
   "cell_type": "code",
   "execution_count": 18,
   "id": "1e6ba971-1893-4e01-b0bb-82382ea6c02c",
   "metadata": {},
   "outputs": [
    {
     "data": {
      "text/plain": [
       "array(['PUERTO QUETZAL', 'EL CARMEN', 'G8, CENTRALSA', 'G1, INTEGRADA',\n",
       "       'SANTO TOMAS DE CASTILLA', 'PUERTO BARRIOS', 'TECUN UMAN',\n",
       "       'G4, ALSERSA', 'MELCHOR DE MENCOS', 'EL CEIBO', 'LA MESILLA',\n",
       "       'VALLE NUEVO', 'PEDRO DE ALVARADO', 'G5, CEALSA', 'VEHICULOS',\n",
       "       'ADUANA INTEGRADA AGUA CALIENTE', 'G7, ALCORSA', 'G3, ALPASA',\n",
       "       'SAN CRISTOBAL', 'ADUANA INTEGRADA CORINTO', 'LA ERMITA'],\n",
       "      dtype=object)"
      ]
     },
     "execution_count": 18,
     "metadata": {},
     "output_type": "execute_result"
    }
   ],
   "source": [
    "dfImportacionRDS[\"Aduana de Ingreso\"].unique()"
   ]
  },
  {
   "cell_type": "code",
   "execution_count": 19,
   "id": "7fb27a5f-b7ef-4218-9e8a-94697c64dada",
   "metadata": {},
   "outputs": [
    {
     "data": {
      "text/plain": [
       "array(['PUERTO QUETZAL', 'TECUN UMAN', 'G1, INTEGRADA', 'G8, CENTRALSA',\n",
       "       'EL CARMEN', 'PUERTO BARRIOS', 'SANTO TOMAS DE CASTILLA',\n",
       "       'MELCHOR DE MENCOS', 'VEHICULOS', 'LA MESILLA',\n",
       "       'PEDRO DE ALVARADO', 'SAN CRISTOBAL', 'EL CEIBO',\n",
       "       'ADUANA INTEGRADA AGUA CALIENTE', 'VALLE NUEVO', 'G3, ALPASA',\n",
       "       'G7, ALCORSA', 'G4, ALSERSA', 'ADUANA INTEGRADA CORINTO'],\n",
       "      dtype=object)"
      ]
     },
     "execution_count": 19,
     "metadata": {},
     "output_type": "execute_result"
    }
   ],
   "source": [
    "dfImportacionS3[\"Aduana de Ingreso\"].unique()"
   ]
  },
  {
   "cell_type": "code",
   "execution_count": 20,
   "id": "8b5e527f-f0ab-488d-a6b9-4485b6fa9920",
   "metadata": {},
   "outputs": [
    {
     "data": {
      "text/plain": [
       "array(['Aduana Tecún Umán 1', 'Aduana Integrada Agua Caliente',\n",
       "       'Aduana Integrada Corinto', 'Aduana Integrada El Florido',\n",
       "       'Aduana Puerto Quetzal', 'Aduana Santo Tomas De Castilla',\n",
       "       'Aduana Express Aereo', 'Aduana Central', 'Aduana Tecun Uman',\n",
       "       'Aduana Puerto Barrios', 'Aduana Pedro De Alvarado',\n",
       "       'Aduana San Cristobal',\n",
       "       'Aduana Almacenadora Integrada (almacenadora)',\n",
       "       'Aduana Agua Caliente', 'Aduana El Florido',\n",
       "       'Aduana Alpasa (almacenadora)', 'Aduana Centralsa (almacenadora)',\n",
       "       'Aduana La Ermita', 'Aduana El Carmen', 'Aduana Valle Nuevo',\n",
       "       'Aduana Alcorsa (almacenadora)', 'Aduana Alminter (almacenadora)',\n",
       "       'Aduana Alsersa (almacenadora)', 'Aduana Cealsa (almacenadora)',\n",
       "       'Aduana Almaguate (almacenadora)', 'Aduana Central De Aviacion',\n",
       "       'Aduana Melchor De Mencos', 'Aduana Fardos Postales', 'El Ceibo',\n",
       "       'Aduana La Mesilla', 'Tikal'], dtype=object)"
      ]
     },
     "execution_count": 20,
     "metadata": {},
     "output_type": "execute_result"
    }
   ],
   "source": [
    "dfAduanasS3[\"Aduanas\"].unique()"
   ]
  },
  {
   "cell_type": "markdown",
   "id": "205e46d7-1c84-40b4-8012-e00a84d6ae72",
   "metadata": {},
   "source": [
    "##### Valores distintos en la columna Marca"
   ]
  },
  {
   "cell_type": "code",
   "execution_count": 21,
   "id": "b9d780f9-373a-450a-856f-cdf3a56d33c0",
   "metadata": {},
   "outputs": [
    {
     "data": {
      "text/plain": [
       "array(['YAMAHA', 'HONDA', 'TOYOTA', 'KIA', 'CHEVROLET', 'HYUNDAI', 'JEEP',\n",
       "       'SUZUKI', 'FORD', 'NISSAN', 'MOVESA', 'MAZDA', 'KAWASAKI',\n",
       "       'MERCEDES-BENZ', 'FREIGHTLINER', 'SUBARU', 'ITALIKA', 'BAJAJ',\n",
       "       'SATURN', 'MITSUBISHI', 'ISUZU', 'VOLKSWAGEN', 'MINI',\n",
       "       'LAND ROVER', 'SCION', 'XCMG', 'BMW', 'AUDI', 'MITSUBISHI FUSO',\n",
       "       'GMC', 'INTERNATIONAL', 'POLARIS', 'DODGE', 'SERPENTO', 'OSBORNE',\n",
       "       'VOLVO', 'JOHN DEERE', 'ACURA', 'JAC', 'HARLEY-DAVIDSON', 'DUCATI',\n",
       "       'ASIA HERO', 'UD NISSAN', 'PETERBILT', 'TRAILMOBILE', 'TVS',\n",
       "       'LIUGONG', 'CHANGAN', 'FIAT', 'STRICK', 'HONDA FIT', 'UTILITY',\n",
       "       'HOBBS', 'AZTEC', 'CADILLAC', 'CASE', 'HUMMER', 'INFINITI',\n",
       "       'NEW HOLLAND', 'DORSEY', 'KENWORTH', 'PINES', 'KTM', 'PONTIAC',\n",
       "       'WABASH', 'GEO', 'MCI', 'LEXUS', 'JCB', 'WRANGLER', 'SCOOTER',\n",
       "       'PORSCHE', 'FREEDOM', 'CHRYSLER', 'CFMOTO', 'LOADCRAFT', 'GINDY',\n",
       "       'HERCULES', 'BLUE BIRD', 'MASSEY FERGUSON', 'ZHONGYU', 'BOYD',\n",
       "       'NEW FLYER', 'PIAGGIO', 'EAST', 'VANHOOL', 'ZHONGNENG', 'BETA',\n",
       "       'MRT', 'STERLING', 'MASERATI', 'TRANSCRAFT', 'BIG DOG', 'HAOJUE',\n",
       "       'CATERPILLAR', 'MACK', 'EDASAINFRA', 'HINO', 'FONTAINE', 'DAMON',\n",
       "       'HISUN', 'ME', 'JAGUAR', 'RAM', 'TOMBERLIN', 'STOUGHTON', 'VENTO',\n",
       "       'HERO', 'COLOVE', 'KEYSTONE', 'ZHEJIANG', 'FRUEHAUF', 'DAEWOO',\n",
       "       'SSANG YONG', 'NUVAN', 'GREAT DANE', 'BOBCAT', 'CAN-AM',\n",
       "       'STEEL WORKS', 'THOMAS', 'CLUB CAR', 'TRAIL', 'RENAULT', 'VESPA',\n",
       "       'MVS', 'BOONE', 'TAOTAO', 'LEDWELL', 'SHOPMADE', 'COTTRELL',\n",
       "       'PACIFIC', 'SIN MARCA', 'VORTEX', 'TRIUMPH', 'HUSQVARNA',\n",
       "       'SHINERAY', 'DFSK', 'GAS-GAS', 'BAJA', 'BENELLI', 'OSHKOSH',\n",
       "       'KYMCO', 'AVANTI', 'WHITE GMC', 'FERRARI', 'INGERSOLL RAND',\n",
       "       'TRAIL KING', 'AKT', 'COLE', 'INDIAN', 'SHERCO', 'MG', 'KOMATSU',\n",
       "       'SSR', 'LIFAN', 'DONG FANG'], dtype=object)"
      ]
     },
     "execution_count": 21,
     "metadata": {},
     "output_type": "execute_result"
    }
   ],
   "source": [
    "dfImportacionRDS[\"Marca\"].unique()"
   ]
  },
  {
   "cell_type": "code",
   "execution_count": 22,
   "id": "9056c06e-1c9e-47eb-8a6e-73864a56eeda",
   "metadata": {},
   "outputs": [
    {
     "data": {
      "text/plain": [
       "array(['TVS', 'HONDA', 'TOYOTA', 'PEUGEOT', 'SUZUKI', 'MAZDA', 'FORD',\n",
       "       'FREIGHTLINER', 'BAJAJ', 'NISSAN', 'ISUZU', 'MITSUBISHI', 'HINO',\n",
       "       'PETERBILT', 'UTILITY', 'PACER', 'INTERNATIONAL', 'JEEP',\n",
       "       'VOLKSWAGEN', 'BMW', 'CHEVROLET', 'KIA', 'SCION', 'MINI', 'MOVESA',\n",
       "       'JAC', 'HYUNDAI', 'STRICK', 'SERPENTO', 'STERLING', 'KENWORTH',\n",
       "       'YAMAHA', 'HUMMER', 'KAWASAKI', 'FREEDOM', 'MACK', 'SUBARU',\n",
       "       'MERCEDES-BENZ', 'PORSCHE', 'SINOTRUK', 'EDASAINFRA', 'RAM',\n",
       "       'MONON', 'LAND ROVER', 'LEXUS', 'AUDI', 'HERO', 'ITALIKA', 'CASE',\n",
       "       'ETNYRE', 'CONTI', 'HARLEY-DAVIDSON', 'SSANG YONG', 'LUFKIN',\n",
       "       'UAZ', 'DODGE', 'GMC', 'ROAD SYSTEMS', 'VOLVO', 'FRUEHAUF',\n",
       "       'POLARIS', 'DORSEY', 'UD NISSAN', 'MITSUBISHI FUSO', 'MCI', 'EAST',\n",
       "       'BUICK', 'WABASH', 'CATERPILLAR', 'KTM', 'HUSQVARNA', 'CHRYSLER',\n",
       "       'GAS-GAS', 'DUCATI', 'MG', 'BIRMINGHAM', 'TRAILMOBILE', 'GENESIS',\n",
       "       'HAOJUE', 'KYMCO', 'JOHN DEERE', 'GREAT DANE', 'COTTRELL',\n",
       "       'DONG FENG', 'TAOTAO', 'GEO', 'CFMOTO', 'FONTAINE', 'BAJA',\n",
       "       'BLUE BIRD', 'LOADCRAFT', 'HERCULES', 'NO EXISTE', 'GSCR',\n",
       "       'PONTIAC', 'INDIAN', 'WHITE', 'TRANSCRAFT', 'FUSO', 'WESTERN STAR',\n",
       "       'JET COMPANY', 'YUNNEI POWER', 'ZONGSHEN', 'SMART', 'CHINA',\n",
       "       'MANAC', 'SIN MARCA', 'ARTIC CAT', 'S', 'MCCORMICK', 'DAEWOO',\n",
       "       'TRIUMPH', 'SUMT', 'ATV', 'BOMBARDIER LTD', 'HOMEMADE', 'OSBORNE',\n",
       "       'ASIA HERO', 'STOUGHTON', 'JONWAY', 'INFINITI', 'KAZUMA', 'KINLON',\n",
       "       'APRILIA', 'ARMOR', 'TRINITY', 'INTERSTATE', 'WULING', 'CHANGAN',\n",
       "       'GALLEGOS', 'BMS', 'ACURA', 'WITZCOCHALLENGER', 'PIAGGIO',\n",
       "       'CAN-AM', 'MV AGUSTA', 'SHERCO', 'SANYANG', 'HY0SUNG', 'ALLOY',\n",
       "       'HYOSUNG', 'FOTON', 'MILLER', 'APOLO', 'TMR', 'E-Z-GO TEXTRON',\n",
       "       'MASSEY FERGUSON', 'SATURN', 'ARCTIC CAT', 'XINGYUE', 'TRAIL',\n",
       "       'VOLCON', 'JAGUAR', 'FONTAIN', 'VIKING', 'NABORS', 'HEIL', 'BOYD',\n",
       "       'TRANCRAFT', 'LUFK', 'MASERATI', 'BERING', 'MERCURY',\n",
       "       'NEW HOLLAND', 'IMPER', 'MILLENNIUM TRAILERS INC', 'BCX', 'SSR',\n",
       "       'VESPA', 'CADILLAC', 'T-KING', 'SKYTEAM', 'E-TON', 'DACO',\n",
       "       'MATLOCK', 'WARD', 'BENELLI', 'STRIK', 'AUTOCAR', 'PREVOST',\n",
       "       'GALION'], dtype=object)"
      ]
     },
     "execution_count": 22,
     "metadata": {},
     "output_type": "execute_result"
    }
   ],
   "source": [
    "dfImportacionS3[\"Marca\"].unique()"
   ]
  },
  {
   "cell_type": "markdown",
   "id": "d6cf1e2b-3f54-44cc-bc8a-cf2c5af4f109",
   "metadata": {},
   "source": [
    "##### Valores distintos en la columna Linea"
   ]
  },
  {
   "cell_type": "code",
   "execution_count": 23,
   "id": "c47404d5-0699-4eaf-8676-47866bf7a06f",
   "metadata": {},
   "outputs": [
    {
     "data": {
      "text/plain": [
       "array(['T110C', 'NAVI 110', 'MATRIX', ..., 'TACOMA TRD SPORT D/C 4WD',\n",
       "       'TRX420TM1 RANCHER 4X2', 'XL7 4WD'], dtype=object)"
      ]
     },
     "execution_count": 23,
     "metadata": {},
     "output_type": "execute_result"
    }
   ],
   "source": [
    "dfImportacionRDS[\"Linea\"].unique()"
   ]
  },
  {
   "cell_type": "code",
   "execution_count": 24,
   "id": "f3702ede-b834-4482-9a3c-fe930adec9da",
   "metadata": {},
   "outputs": [
    {
     "data": {
      "text/plain": [
       "array(['APACHE RTR 160', 'CR-V EX 4WD', 'COROLLA', ..., 'TRX250TM RECON',\n",
       "       'TACOMA DO/CAB SR5 4WD', 'CR-V REAL TIME 4WD'], dtype=object)"
      ]
     },
     "execution_count": 24,
     "metadata": {},
     "output_type": "execute_result"
    }
   ],
   "source": [
    "dfImportacionS3[\"Linea\"].unique()"
   ]
  },
  {
   "cell_type": "markdown",
   "id": "d56a8ca4-dcfd-42eb-a346-56691d3d4110",
   "metadata": {},
   "source": [
    "##### Valores distintos columna Tipo importador"
   ]
  },
  {
   "cell_type": "code",
   "execution_count": 25,
   "id": "f69e21ea-d863-4954-b3a0-9aa76c3588bf",
   "metadata": {},
   "outputs": [
    {
     "data": {
      "text/plain": [
       "array(['DISTRIBUIDOR', 'OCASIONAL'], dtype=object)"
      ]
     },
     "execution_count": 25,
     "metadata": {},
     "output_type": "execute_result"
    }
   ],
   "source": [
    "dfImportacionRDS[\"Tipo de Importador\"].unique()"
   ]
  },
  {
   "cell_type": "code",
   "execution_count": 26,
   "id": "b1fa4fea-4641-4d49-9760-06de0cda1ab8",
   "metadata": {},
   "outputs": [
    {
     "data": {
      "text/plain": [
       "array(['DISTRIBUIDOR', 'OCASIONAL'], dtype=object)"
      ]
     },
     "execution_count": 26,
     "metadata": {},
     "output_type": "execute_result"
    }
   ],
   "source": [
    "dfImportacionS3[\"Tipo de Importador\"].unique()"
   ]
  },
  {
   "cell_type": "markdown",
   "id": "53483472-9eb6-4e83-b686-77e403690671",
   "metadata": {},
   "source": [
    "##### Relación entre columna Linea Marca"
   ]
  },
  {
   "cell_type": "code",
   "execution_count": 27,
   "id": "8b8b8391-8e9a-4ad5-9b2a-8eba8520addb",
   "metadata": {},
   "outputs": [
    {
     "data": {
      "text/plain": [
       "Linea\n",
       "1 TON 2WD             1\n",
       "1 TON LONG BED 2WD    2\n",
       "1085 4X2              1\n",
       "125 RR-S CHALEE       1\n",
       "128i COUPE            1\n",
       "                     ..\n",
       "xA                    3\n",
       "xA HATCHBACK          1\n",
       "xB                    8\n",
       "xD                    5\n",
       "xD HATCHBACK          1\n",
       "Name: Marca, Length: 2813, dtype: int64"
      ]
     },
     "execution_count": 27,
     "metadata": {},
     "output_type": "execute_result"
    }
   ],
   "source": [
    "dfImportacionRDS.groupby([\"Linea\"])[\"Marca\"].count()"
   ]
  },
  {
   "cell_type": "markdown",
   "id": "18046fea-9922-48cf-bb75-dd2dd2aef139",
   "metadata": {},
   "source": [
    "##### Columna Distintivo"
   ]
  },
  {
   "cell_type": "code",
   "execution_count": 28,
   "id": "08a6176f-deba-48d1-a632-6be34e975cc9",
   "metadata": {},
   "outputs": [
    {
     "data": {
      "text/plain": [
       "array(['LIVIANO', 'PESADO', None], dtype=object)"
      ]
     },
     "execution_count": 28,
     "metadata": {},
     "output_type": "execute_result"
    }
   ],
   "source": [
    "dfImportacionRDS[\"Distintivo\"].unique()"
   ]
  },
  {
   "cell_type": "code",
   "execution_count": 29,
   "id": "b4cb7064-fbc2-4458-be54-eab07cadea97",
   "metadata": {},
   "outputs": [
    {
     "data": {
      "text/plain": [
       "array(['LIVIANO', 'PESADO', nan], dtype=object)"
      ]
     },
     "execution_count": 29,
     "metadata": {},
     "output_type": "execute_result"
    }
   ],
   "source": [
    "dfImportacionS3[\"Distintivo\"].unique()"
   ]
  },
  {
   "cell_type": "markdown",
   "id": "2078cfd8-1db9-4936-be4f-dd47f92e6894",
   "metadata": {},
   "source": [
    "#### Análisis exploración"
   ]
  },
  {
   "cell_type": "markdown",
   "id": "a7217133-d919-4dab-8a68-67cf294de0b3",
   "metadata": {},
   "source": [
    "Como resultado de la exploración de los datos se pudo encontrar que para la imortación hecha desde S3, hay una columna que se puede descartar ya que no posee ningún valor. También se determinó que diferentes marcas pueden tener las mismas líneas, el distintivo en algunas ocasiones viene con un null, así como en la aduana de ingreso en ocasiones contiene valores incorrectos, por ejemplo: \"vehiculos\", en relación a las aduanas los datos obtenidos del archivo Aduandas alojado en S3, el nombre de la aduanda es del tipo \"Aduana Puerto Barrarios\" mientras que en RDS y el otro archivo en S3 tiene las aduanas como \"Puerto Barrios\", otra diferencia es columna \"Es almacenadora\" ya que las importaciones de vehículos no trae esta información y es una columna que para este caso no aporta mayor información por lo que puede ser eliminada.\n"
   ]
  },
  {
   "cell_type": "markdown",
   "id": "8631495d-d89a-4bb8-82fc-77336f7d5982",
   "metadata": {},
   "source": [
    "## Modelo De Datos"
   ]
  },
  {
   "cell_type": "markdown",
   "id": "a3825f3a-62be-4b91-8e38-71fe7e658a3b",
   "metadata": {},
   "source": [
    "Como resultado del análisis anterior se creará el siguiente modelo:\n",
    "- dimensión Paises\n",
    "- dimensión Aduanas\n",
    "- dimensión Partida Arancelaria\n",
    "- dimensión Fecha\n",
    "- dimensión Tipo Importador\n",
    "- dimensión Vehiculo\n",
    "- tabla de hechos Importaciones"
   ]
  },
  {
   "cell_type": "markdown",
   "id": "3c536faa-3bbe-40a4-aa05-4ff286b98b6c",
   "metadata": {},
   "source": [
    "## Procesamiento"
   ]
  },
  {
   "cell_type": "markdown",
   "id": "1a0843c0-a6cb-40ff-8c2c-3a092aaec6fb",
   "metadata": {},
   "source": [
    "##### Uniendo los dataframe de importaciones"
   ]
  },
  {
   "cell_type": "code",
   "execution_count": 10,
   "id": "f634ee58-04c9-4381-beac-026c2c1f32cb",
   "metadata": {},
   "outputs": [
    {
     "name": "stderr",
     "output_type": "stream",
     "text": [
      "/var/folders/hh/25c_zdz92t9c70mlh69s5tg80000gn/T/ipykernel_887/3100517111.py:3: FutureWarning: The frame.append method is deprecated and will be removed from pandas in a future version. Use pandas.concat instead.\n",
      "  dfImportaciones = dfImportaciones.append(dfImportacionRDS)\n",
      "/var/folders/hh/25c_zdz92t9c70mlh69s5tg80000gn/T/ipykernel_887/3100517111.py:7: FutureWarning: The frame.append method is deprecated and will be removed from pandas in a future version. Use pandas.concat instead.\n",
      "  dfImportaciones = dfImportaciones.append(dfImportacionS3.iloc[:,0:17])\n"
     ]
    },
    {
     "data": {
      "text/plain": [
       "Pais de Proveniencia    76450\n",
       "Aduana de Ingreso       76450\n",
       "Fecha de la Poliza      76450\n",
       "Partida Arancelaria     76450\n",
       "Modelo del Vehiculo     76450\n",
       "Marca                   76450\n",
       "Linea                   76450\n",
       "Centimetros Cubicos     76436\n",
       "Distintivo              74873\n",
       "Tipo de Vehiculo        76450\n",
       "Tipo de Importador      76450\n",
       "Tipo Combustible        76450\n",
       "Asientos                76450\n",
       "Puertas                 76450\n",
       "Tonelaje                76450\n",
       "Valor CIF               76450\n",
       "Impuesto                76450\n",
       "dtype: int64"
      ]
     },
     "execution_count": 10,
     "metadata": {},
     "output_type": "execute_result"
    }
   ],
   "source": [
    "dfImportaciones = pd.DataFrame()\n",
    "\n",
    "dfImportaciones = dfImportaciones.append(dfImportacionRDS)\n",
    "\n",
    "#Cambio de nombre columna Fecha de la Poliza en dfImportacionS3 para match con dfImportacionRDS\n",
    "dfImportacionS3 = dfImportacionS3.rename(columns = {\" Fecha de la Poliza\" : \"Fecha de la Poliza\" })\n",
    "dfImportaciones = dfImportaciones.append(dfImportacionS3.iloc[:,0:17])\n",
    "dfImportaciones.count()"
   ]
  },
  {
   "cell_type": "code",
   "execution_count": 31,
   "id": "d189a485-60fe-4eda-b150-21e326edc89d",
   "metadata": {},
   "outputs": [
    {
     "data": {
      "text/html": [
       "<div>\n",
       "<style scoped>\n",
       "    .dataframe tbody tr th:only-of-type {\n",
       "        vertical-align: middle;\n",
       "    }\n",
       "\n",
       "    .dataframe tbody tr th {\n",
       "        vertical-align: top;\n",
       "    }\n",
       "\n",
       "    .dataframe thead th {\n",
       "        text-align: right;\n",
       "    }\n",
       "</style>\n",
       "<table border=\"1\" class=\"dataframe\">\n",
       "  <thead>\n",
       "    <tr style=\"text-align: right;\">\n",
       "      <th></th>\n",
       "      <th>Pais de Proveniencia</th>\n",
       "      <th>Aduana de Ingreso</th>\n",
       "      <th>Fecha de la Poliza</th>\n",
       "      <th>Partida Arancelaria</th>\n",
       "      <th>Modelo del Vehiculo</th>\n",
       "      <th>Marca</th>\n",
       "      <th>Linea</th>\n",
       "      <th>Centimetros Cubicos</th>\n",
       "      <th>Distintivo</th>\n",
       "      <th>Tipo de Vehiculo</th>\n",
       "      <th>Tipo de Importador</th>\n",
       "      <th>Tipo Combustible</th>\n",
       "      <th>Asientos</th>\n",
       "      <th>Puertas</th>\n",
       "      <th>Tonelaje</th>\n",
       "      <th>Valor CIF</th>\n",
       "      <th>Impuesto</th>\n",
       "    </tr>\n",
       "  </thead>\n",
       "  <tbody>\n",
       "    <tr>\n",
       "      <th>0</th>\n",
       "      <td>CHINA</td>\n",
       "      <td>PUERTO QUETZAL</td>\n",
       "      <td>18/01/2022</td>\n",
       "      <td>8711209000</td>\n",
       "      <td>2022</td>\n",
       "      <td>YAMAHA</td>\n",
       "      <td>T110C</td>\n",
       "      <td>110.0</td>\n",
       "      <td>LIVIANO</td>\n",
       "      <td>MOTO</td>\n",
       "      <td>DISTRIBUIDOR</td>\n",
       "      <td>GASOLINA</td>\n",
       "      <td>2</td>\n",
       "      <td>0</td>\n",
       "      <td>0.0</td>\n",
       "      <td>767777.85</td>\n",
       "      <td>92133.34</td>\n",
       "    </tr>\n",
       "    <tr>\n",
       "      <th>1</th>\n",
       "      <td>CHINA</td>\n",
       "      <td>PUERTO QUETZAL</td>\n",
       "      <td>18/01/2022</td>\n",
       "      <td>8711209000</td>\n",
       "      <td>2022</td>\n",
       "      <td>YAMAHA</td>\n",
       "      <td>T110C</td>\n",
       "      <td>110.0</td>\n",
       "      <td>LIVIANO</td>\n",
       "      <td>MOTO</td>\n",
       "      <td>DISTRIBUIDOR</td>\n",
       "      <td>GASOLINA</td>\n",
       "      <td>2</td>\n",
       "      <td>0</td>\n",
       "      <td>0.0</td>\n",
       "      <td>767777.85</td>\n",
       "      <td>92133.34</td>\n",
       "    </tr>\n",
       "    <tr>\n",
       "      <th>2</th>\n",
       "      <td>CHINA</td>\n",
       "      <td>PUERTO QUETZAL</td>\n",
       "      <td>18/01/2022</td>\n",
       "      <td>8711209000</td>\n",
       "      <td>2022</td>\n",
       "      <td>YAMAHA</td>\n",
       "      <td>T110C</td>\n",
       "      <td>110.0</td>\n",
       "      <td>LIVIANO</td>\n",
       "      <td>MOTO</td>\n",
       "      <td>DISTRIBUIDOR</td>\n",
       "      <td>GASOLINA</td>\n",
       "      <td>2</td>\n",
       "      <td>0</td>\n",
       "      <td>0.0</td>\n",
       "      <td>767777.85</td>\n",
       "      <td>92133.34</td>\n",
       "    </tr>\n",
       "    <tr>\n",
       "      <th>3</th>\n",
       "      <td>CHINA</td>\n",
       "      <td>PUERTO QUETZAL</td>\n",
       "      <td>18/01/2022</td>\n",
       "      <td>8711209000</td>\n",
       "      <td>2022</td>\n",
       "      <td>YAMAHA</td>\n",
       "      <td>T110C</td>\n",
       "      <td>110.0</td>\n",
       "      <td>LIVIANO</td>\n",
       "      <td>MOTO</td>\n",
       "      <td>DISTRIBUIDOR</td>\n",
       "      <td>GASOLINA</td>\n",
       "      <td>2</td>\n",
       "      <td>0</td>\n",
       "      <td>0.0</td>\n",
       "      <td>767777.85</td>\n",
       "      <td>92133.34</td>\n",
       "    </tr>\n",
       "    <tr>\n",
       "      <th>4</th>\n",
       "      <td>CHINA</td>\n",
       "      <td>PUERTO QUETZAL</td>\n",
       "      <td>18/01/2022</td>\n",
       "      <td>8711209000</td>\n",
       "      <td>2022</td>\n",
       "      <td>YAMAHA</td>\n",
       "      <td>T110C</td>\n",
       "      <td>110.0</td>\n",
       "      <td>LIVIANO</td>\n",
       "      <td>MOTO</td>\n",
       "      <td>DISTRIBUIDOR</td>\n",
       "      <td>GASOLINA</td>\n",
       "      <td>2</td>\n",
       "      <td>0</td>\n",
       "      <td>0.0</td>\n",
       "      <td>767777.85</td>\n",
       "      <td>92133.34</td>\n",
       "    </tr>\n",
       "  </tbody>\n",
       "</table>\n",
       "</div>"
      ],
      "text/plain": [
       "  Pais de Proveniencia Aduana de Ingreso Fecha de la Poliza  \\\n",
       "0                CHINA    PUERTO QUETZAL         18/01/2022   \n",
       "1                CHINA    PUERTO QUETZAL         18/01/2022   \n",
       "2                CHINA    PUERTO QUETZAL         18/01/2022   \n",
       "3                CHINA    PUERTO QUETZAL         18/01/2022   \n",
       "4                CHINA    PUERTO QUETZAL         18/01/2022   \n",
       "\n",
       "   Partida Arancelaria  Modelo del Vehiculo   Marca  Linea  \\\n",
       "0           8711209000                 2022  YAMAHA  T110C   \n",
       "1           8711209000                 2022  YAMAHA  T110C   \n",
       "2           8711209000                 2022  YAMAHA  T110C   \n",
       "3           8711209000                 2022  YAMAHA  T110C   \n",
       "4           8711209000                 2022  YAMAHA  T110C   \n",
       "\n",
       "   Centimetros Cubicos Distintivo Tipo de Vehiculo Tipo de Importador  \\\n",
       "0                110.0    LIVIANO             MOTO       DISTRIBUIDOR   \n",
       "1                110.0    LIVIANO             MOTO       DISTRIBUIDOR   \n",
       "2                110.0    LIVIANO             MOTO       DISTRIBUIDOR   \n",
       "3                110.0    LIVIANO             MOTO       DISTRIBUIDOR   \n",
       "4                110.0    LIVIANO             MOTO       DISTRIBUIDOR   \n",
       "\n",
       "  Tipo Combustible  Asientos  Puertas  Tonelaje  Valor CIF  Impuesto  \n",
       "0         GASOLINA         2        0       0.0  767777.85  92133.34  \n",
       "1         GASOLINA         2        0       0.0  767777.85  92133.34  \n",
       "2         GASOLINA         2        0       0.0  767777.85  92133.34  \n",
       "3         GASOLINA         2        0       0.0  767777.85  92133.34  \n",
       "4         GASOLINA         2        0       0.0  767777.85  92133.34  "
      ]
     },
     "execution_count": 31,
     "metadata": {},
     "output_type": "execute_result"
    }
   ],
   "source": [
    "dfImportaciones.head()"
   ]
  },
  {
   "cell_type": "markdown",
   "id": "31c1457e-9a16-4fa2-92aa-967d5ddc3fb3",
   "metadata": {},
   "source": [
    "##### Creando dataframe para las aduanas"
   ]
  },
  {
   "cell_type": "code",
   "execution_count": 11,
   "id": "4cad8b18-7d72-4b2f-9e70-701892251840",
   "metadata": {},
   "outputs": [
    {
     "data": {
      "text/html": [
       "<div>\n",
       "<style scoped>\n",
       "    .dataframe tbody tr th:only-of-type {\n",
       "        vertical-align: middle;\n",
       "    }\n",
       "\n",
       "    .dataframe tbody tr th {\n",
       "        vertical-align: top;\n",
       "    }\n",
       "\n",
       "    .dataframe thead th {\n",
       "        text-align: right;\n",
       "    }\n",
       "</style>\n",
       "<table border=\"1\" class=\"dataframe\">\n",
       "  <thead>\n",
       "    <tr style=\"text-align: right;\">\n",
       "      <th></th>\n",
       "      <th>Aduana</th>\n",
       "      <th>Nombre Corto</th>\n",
       "    </tr>\n",
       "  </thead>\n",
       "  <tbody>\n",
       "    <tr>\n",
       "      <th>0</th>\n",
       "      <td>ADUANA TECÚN UMÁN 1</td>\n",
       "      <td>TECÚN UMÁN 1</td>\n",
       "    </tr>\n",
       "    <tr>\n",
       "      <th>1</th>\n",
       "      <td>ADUANA INTEGRADA AGUA CALIENTE</td>\n",
       "      <td>INTEGRADA AGUA CALIENTE</td>\n",
       "    </tr>\n",
       "    <tr>\n",
       "      <th>2</th>\n",
       "      <td>ADUANA INTEGRADA CORINTO</td>\n",
       "      <td>INTEGRADA CORINTO</td>\n",
       "    </tr>\n",
       "    <tr>\n",
       "      <th>3</th>\n",
       "      <td>ADUANA INTEGRADA EL FLORIDO</td>\n",
       "      <td>INTEGRADA EL FLORIDO</td>\n",
       "    </tr>\n",
       "    <tr>\n",
       "      <th>4</th>\n",
       "      <td>ADUANA PUERTO QUETZAL</td>\n",
       "      <td>PUERTO QUETZAL</td>\n",
       "    </tr>\n",
       "  </tbody>\n",
       "</table>\n",
       "</div>"
      ],
      "text/plain": [
       "                           Aduana             Nombre Corto\n",
       "0             ADUANA TECÚN UMÁN 1             TECÚN UMÁN 1\n",
       "1  ADUANA INTEGRADA AGUA CALIENTE  INTEGRADA AGUA CALIENTE\n",
       "2        ADUANA INTEGRADA CORINTO        INTEGRADA CORINTO\n",
       "3     ADUANA INTEGRADA EL FLORIDO     INTEGRADA EL FLORIDO\n",
       "4           ADUANA PUERTO QUETZAL           PUERTO QUETZAL"
      ]
     },
     "execution_count": 11,
     "metadata": {},
     "output_type": "execute_result"
    }
   ],
   "source": [
    "dfAduanas = pd.DataFrame()\n",
    "\n",
    "dfAduanas = pd.concat([dfAduanas, dfAduanasS3[\"Aduanas\"].str.upper()], axis = 1)\n",
    "dfAduanas = dfAduanas.rename(columns = {\"Aduanas\": \"Aduana\"})\n",
    "dfAduanas[\"Nombre Corto\"] = [aduana.split(\"ADUANA\")[1].strip() if len(aduana.split(\"ADUANA\")) == 2 else aduana for aduana in dfAduanas[\"Aduana\"]]\n",
    "dfAduanas.head()"
   ]
  },
  {
   "cell_type": "code",
   "execution_count": 12,
   "id": "86f6c983-3754-4e08-80df-518ff400e874",
   "metadata": {},
   "outputs": [
    {
     "name": "stderr",
     "output_type": "stream",
     "text": [
      "/var/folders/hh/25c_zdz92t9c70mlh69s5tg80000gn/T/ipykernel_887/1776890133.py:5: FutureWarning: The frame.append method is deprecated and will be removed from pandas in a future version. Use pandas.concat instead.\n",
      "  dfAduanas =dfAduanas.append({\"Aduana\":item, \"Nombre Corto\":item}, ignore_index = True)\n",
      "/var/folders/hh/25c_zdz92t9c70mlh69s5tg80000gn/T/ipykernel_887/1776890133.py:5: FutureWarning: The frame.append method is deprecated and will be removed from pandas in a future version. Use pandas.concat instead.\n",
      "  dfAduanas =dfAduanas.append({\"Aduana\":item, \"Nombre Corto\":item}, ignore_index = True)\n",
      "/var/folders/hh/25c_zdz92t9c70mlh69s5tg80000gn/T/ipykernel_887/1776890133.py:5: FutureWarning: The frame.append method is deprecated and will be removed from pandas in a future version. Use pandas.concat instead.\n",
      "  dfAduanas =dfAduanas.append({\"Aduana\":item, \"Nombre Corto\":item}, ignore_index = True)\n",
      "/var/folders/hh/25c_zdz92t9c70mlh69s5tg80000gn/T/ipykernel_887/1776890133.py:5: FutureWarning: The frame.append method is deprecated and will be removed from pandas in a future version. Use pandas.concat instead.\n",
      "  dfAduanas =dfAduanas.append({\"Aduana\":item, \"Nombre Corto\":item}, ignore_index = True)\n",
      "/var/folders/hh/25c_zdz92t9c70mlh69s5tg80000gn/T/ipykernel_887/1776890133.py:5: FutureWarning: The frame.append method is deprecated and will be removed from pandas in a future version. Use pandas.concat instead.\n",
      "  dfAduanas =dfAduanas.append({\"Aduana\":item, \"Nombre Corto\":item}, ignore_index = True)\n",
      "/var/folders/hh/25c_zdz92t9c70mlh69s5tg80000gn/T/ipykernel_887/1776890133.py:5: FutureWarning: The frame.append method is deprecated and will be removed from pandas in a future version. Use pandas.concat instead.\n",
      "  dfAduanas =dfAduanas.append({\"Aduana\":item, \"Nombre Corto\":item}, ignore_index = True)\n",
      "/var/folders/hh/25c_zdz92t9c70mlh69s5tg80000gn/T/ipykernel_887/1776890133.py:5: FutureWarning: The frame.append method is deprecated and will be removed from pandas in a future version. Use pandas.concat instead.\n",
      "  dfAduanas =dfAduanas.append({\"Aduana\":item, \"Nombre Corto\":item}, ignore_index = True)\n"
     ]
    },
    {
     "data": {
      "text/html": [
       "<div>\n",
       "<style scoped>\n",
       "    .dataframe tbody tr th:only-of-type {\n",
       "        vertical-align: middle;\n",
       "    }\n",
       "\n",
       "    .dataframe tbody tr th {\n",
       "        vertical-align: top;\n",
       "    }\n",
       "\n",
       "    .dataframe thead th {\n",
       "        text-align: right;\n",
       "    }\n",
       "</style>\n",
       "<table border=\"1\" class=\"dataframe\">\n",
       "  <thead>\n",
       "    <tr style=\"text-align: right;\">\n",
       "      <th></th>\n",
       "      <th>Aduana</th>\n",
       "      <th>Nombre Corto</th>\n",
       "    </tr>\n",
       "  </thead>\n",
       "  <tbody>\n",
       "    <tr>\n",
       "      <th>0</th>\n",
       "      <td>ADUANA TECÚN UMÁN 1</td>\n",
       "      <td>TECÚN UMÁN 1</td>\n",
       "    </tr>\n",
       "    <tr>\n",
       "      <th>1</th>\n",
       "      <td>ADUANA INTEGRADA AGUA CALIENTE</td>\n",
       "      <td>INTEGRADA AGUA CALIENTE</td>\n",
       "    </tr>\n",
       "    <tr>\n",
       "      <th>2</th>\n",
       "      <td>ADUANA INTEGRADA CORINTO</td>\n",
       "      <td>INTEGRADA CORINTO</td>\n",
       "    </tr>\n",
       "    <tr>\n",
       "      <th>3</th>\n",
       "      <td>ADUANA INTEGRADA EL FLORIDO</td>\n",
       "      <td>INTEGRADA EL FLORIDO</td>\n",
       "    </tr>\n",
       "    <tr>\n",
       "      <th>4</th>\n",
       "      <td>ADUANA PUERTO QUETZAL</td>\n",
       "      <td>PUERTO QUETZAL</td>\n",
       "    </tr>\n",
       "    <tr>\n",
       "      <th>5</th>\n",
       "      <td>ADUANA SANTO TOMAS DE CASTILLA</td>\n",
       "      <td>SANTO TOMAS DE CASTILLA</td>\n",
       "    </tr>\n",
       "    <tr>\n",
       "      <th>6</th>\n",
       "      <td>ADUANA EXPRESS AEREO</td>\n",
       "      <td>EXPRESS AEREO</td>\n",
       "    </tr>\n",
       "    <tr>\n",
       "      <th>7</th>\n",
       "      <td>ADUANA CENTRAL</td>\n",
       "      <td>CENTRAL</td>\n",
       "    </tr>\n",
       "    <tr>\n",
       "      <th>8</th>\n",
       "      <td>ADUANA TECUN UMAN</td>\n",
       "      <td>TECUN UMAN</td>\n",
       "    </tr>\n",
       "    <tr>\n",
       "      <th>9</th>\n",
       "      <td>ADUANA PUERTO BARRIOS</td>\n",
       "      <td>PUERTO BARRIOS</td>\n",
       "    </tr>\n",
       "    <tr>\n",
       "      <th>10</th>\n",
       "      <td>ADUANA PEDRO DE ALVARADO</td>\n",
       "      <td>PEDRO DE ALVARADO</td>\n",
       "    </tr>\n",
       "    <tr>\n",
       "      <th>11</th>\n",
       "      <td>ADUANA SAN CRISTOBAL</td>\n",
       "      <td>SAN CRISTOBAL</td>\n",
       "    </tr>\n",
       "    <tr>\n",
       "      <th>12</th>\n",
       "      <td>ADUANA ALMACENADORA INTEGRADA (ALMACENADORA)</td>\n",
       "      <td>ALMACENADORA INTEGRADA (ALMACENADORA)</td>\n",
       "    </tr>\n",
       "    <tr>\n",
       "      <th>13</th>\n",
       "      <td>ADUANA AGUA CALIENTE</td>\n",
       "      <td>AGUA CALIENTE</td>\n",
       "    </tr>\n",
       "    <tr>\n",
       "      <th>14</th>\n",
       "      <td>ADUANA EL FLORIDO</td>\n",
       "      <td>EL FLORIDO</td>\n",
       "    </tr>\n",
       "    <tr>\n",
       "      <th>15</th>\n",
       "      <td>ADUANA ALPASA (ALMACENADORA)</td>\n",
       "      <td>ALPASA (ALMACENADORA)</td>\n",
       "    </tr>\n",
       "    <tr>\n",
       "      <th>16</th>\n",
       "      <td>ADUANA CENTRALSA (ALMACENADORA)</td>\n",
       "      <td>CENTRALSA (ALMACENADORA)</td>\n",
       "    </tr>\n",
       "    <tr>\n",
       "      <th>17</th>\n",
       "      <td>ADUANA LA ERMITA</td>\n",
       "      <td>LA ERMITA</td>\n",
       "    </tr>\n",
       "    <tr>\n",
       "      <th>18</th>\n",
       "      <td>ADUANA EL CARMEN</td>\n",
       "      <td>EL CARMEN</td>\n",
       "    </tr>\n",
       "    <tr>\n",
       "      <th>19</th>\n",
       "      <td>ADUANA VALLE NUEVO</td>\n",
       "      <td>VALLE NUEVO</td>\n",
       "    </tr>\n",
       "    <tr>\n",
       "      <th>20</th>\n",
       "      <td>ADUANA ALCORSA (ALMACENADORA)</td>\n",
       "      <td>ALCORSA (ALMACENADORA)</td>\n",
       "    </tr>\n",
       "    <tr>\n",
       "      <th>21</th>\n",
       "      <td>ADUANA ALMINTER (ALMACENADORA)</td>\n",
       "      <td>ALMINTER (ALMACENADORA)</td>\n",
       "    </tr>\n",
       "    <tr>\n",
       "      <th>22</th>\n",
       "      <td>ADUANA ALSERSA (ALMACENADORA)</td>\n",
       "      <td>ALSERSA (ALMACENADORA)</td>\n",
       "    </tr>\n",
       "    <tr>\n",
       "      <th>23</th>\n",
       "      <td>ADUANA CEALSA (ALMACENADORA)</td>\n",
       "      <td>CEALSA (ALMACENADORA)</td>\n",
       "    </tr>\n",
       "    <tr>\n",
       "      <th>24</th>\n",
       "      <td>ADUANA ALMAGUATE (ALMACENADORA)</td>\n",
       "      <td>ALMAGUATE (ALMACENADORA)</td>\n",
       "    </tr>\n",
       "    <tr>\n",
       "      <th>25</th>\n",
       "      <td>ADUANA CENTRAL DE AVIACION</td>\n",
       "      <td>CENTRAL DE AVIACION</td>\n",
       "    </tr>\n",
       "    <tr>\n",
       "      <th>26</th>\n",
       "      <td>ADUANA MELCHOR DE MENCOS</td>\n",
       "      <td>MELCHOR DE MENCOS</td>\n",
       "    </tr>\n",
       "    <tr>\n",
       "      <th>27</th>\n",
       "      <td>ADUANA FARDOS POSTALES</td>\n",
       "      <td>FARDOS POSTALES</td>\n",
       "    </tr>\n",
       "    <tr>\n",
       "      <th>28</th>\n",
       "      <td>EL CEIBO</td>\n",
       "      <td>EL CEIBO</td>\n",
       "    </tr>\n",
       "    <tr>\n",
       "      <th>29</th>\n",
       "      <td>ADUANA LA MESILLA</td>\n",
       "      <td>LA MESILLA</td>\n",
       "    </tr>\n",
       "    <tr>\n",
       "      <th>30</th>\n",
       "      <td>TIKAL</td>\n",
       "      <td>TIKAL</td>\n",
       "    </tr>\n",
       "    <tr>\n",
       "      <th>31</th>\n",
       "      <td>G8, CENTRALSA</td>\n",
       "      <td>G8, CENTRALSA</td>\n",
       "    </tr>\n",
       "    <tr>\n",
       "      <th>32</th>\n",
       "      <td>G1, INTEGRADA</td>\n",
       "      <td>G1, INTEGRADA</td>\n",
       "    </tr>\n",
       "    <tr>\n",
       "      <th>33</th>\n",
       "      <td>G4, ALSERSA</td>\n",
       "      <td>G4, ALSERSA</td>\n",
       "    </tr>\n",
       "    <tr>\n",
       "      <th>34</th>\n",
       "      <td>G5, CEALSA</td>\n",
       "      <td>G5, CEALSA</td>\n",
       "    </tr>\n",
       "    <tr>\n",
       "      <th>35</th>\n",
       "      <td>VEHICULOS</td>\n",
       "      <td>VEHICULOS</td>\n",
       "    </tr>\n",
       "    <tr>\n",
       "      <th>36</th>\n",
       "      <td>G7, ALCORSA</td>\n",
       "      <td>G7, ALCORSA</td>\n",
       "    </tr>\n",
       "    <tr>\n",
       "      <th>37</th>\n",
       "      <td>G3, ALPASA</td>\n",
       "      <td>G3, ALPASA</td>\n",
       "    </tr>\n",
       "  </tbody>\n",
       "</table>\n",
       "</div>"
      ],
      "text/plain": [
       "                                          Aduana  \\\n",
       "0                            ADUANA TECÚN UMÁN 1   \n",
       "1                 ADUANA INTEGRADA AGUA CALIENTE   \n",
       "2                       ADUANA INTEGRADA CORINTO   \n",
       "3                    ADUANA INTEGRADA EL FLORIDO   \n",
       "4                          ADUANA PUERTO QUETZAL   \n",
       "5                 ADUANA SANTO TOMAS DE CASTILLA   \n",
       "6                           ADUANA EXPRESS AEREO   \n",
       "7                                 ADUANA CENTRAL   \n",
       "8                              ADUANA TECUN UMAN   \n",
       "9                          ADUANA PUERTO BARRIOS   \n",
       "10                      ADUANA PEDRO DE ALVARADO   \n",
       "11                          ADUANA SAN CRISTOBAL   \n",
       "12  ADUANA ALMACENADORA INTEGRADA (ALMACENADORA)   \n",
       "13                          ADUANA AGUA CALIENTE   \n",
       "14                             ADUANA EL FLORIDO   \n",
       "15                  ADUANA ALPASA (ALMACENADORA)   \n",
       "16               ADUANA CENTRALSA (ALMACENADORA)   \n",
       "17                              ADUANA LA ERMITA   \n",
       "18                              ADUANA EL CARMEN   \n",
       "19                            ADUANA VALLE NUEVO   \n",
       "20                 ADUANA ALCORSA (ALMACENADORA)   \n",
       "21                ADUANA ALMINTER (ALMACENADORA)   \n",
       "22                 ADUANA ALSERSA (ALMACENADORA)   \n",
       "23                  ADUANA CEALSA (ALMACENADORA)   \n",
       "24               ADUANA ALMAGUATE (ALMACENADORA)   \n",
       "25                    ADUANA CENTRAL DE AVIACION   \n",
       "26                      ADUANA MELCHOR DE MENCOS   \n",
       "27                        ADUANA FARDOS POSTALES   \n",
       "28                                      EL CEIBO   \n",
       "29                             ADUANA LA MESILLA   \n",
       "30                                         TIKAL   \n",
       "31                                 G8, CENTRALSA   \n",
       "32                                 G1, INTEGRADA   \n",
       "33                                   G4, ALSERSA   \n",
       "34                                    G5, CEALSA   \n",
       "35                                     VEHICULOS   \n",
       "36                                   G7, ALCORSA   \n",
       "37                                    G3, ALPASA   \n",
       "\n",
       "                             Nombre Corto  \n",
       "0                            TECÚN UMÁN 1  \n",
       "1                 INTEGRADA AGUA CALIENTE  \n",
       "2                       INTEGRADA CORINTO  \n",
       "3                    INTEGRADA EL FLORIDO  \n",
       "4                          PUERTO QUETZAL  \n",
       "5                 SANTO TOMAS DE CASTILLA  \n",
       "6                           EXPRESS AEREO  \n",
       "7                                 CENTRAL  \n",
       "8                              TECUN UMAN  \n",
       "9                          PUERTO BARRIOS  \n",
       "10                      PEDRO DE ALVARADO  \n",
       "11                          SAN CRISTOBAL  \n",
       "12  ALMACENADORA INTEGRADA (ALMACENADORA)  \n",
       "13                          AGUA CALIENTE  \n",
       "14                             EL FLORIDO  \n",
       "15                  ALPASA (ALMACENADORA)  \n",
       "16               CENTRALSA (ALMACENADORA)  \n",
       "17                              LA ERMITA  \n",
       "18                              EL CARMEN  \n",
       "19                            VALLE NUEVO  \n",
       "20                 ALCORSA (ALMACENADORA)  \n",
       "21                ALMINTER (ALMACENADORA)  \n",
       "22                 ALSERSA (ALMACENADORA)  \n",
       "23                  CEALSA (ALMACENADORA)  \n",
       "24               ALMAGUATE (ALMACENADORA)  \n",
       "25                    CENTRAL DE AVIACION  \n",
       "26                      MELCHOR DE MENCOS  \n",
       "27                        FARDOS POSTALES  \n",
       "28                               EL CEIBO  \n",
       "29                             LA MESILLA  \n",
       "30                                  TIKAL  \n",
       "31                          G8, CENTRALSA  \n",
       "32                          G1, INTEGRADA  \n",
       "33                            G4, ALSERSA  \n",
       "34                             G5, CEALSA  \n",
       "35                              VEHICULOS  \n",
       "36                            G7, ALCORSA  \n",
       "37                             G3, ALPASA  "
      ]
     },
     "execution_count": 12,
     "metadata": {},
     "output_type": "execute_result"
    }
   ],
   "source": [
    "dfTempAduanas = pd.DataFrame({\"Aduanas\" :dfImportaciones[\"Aduana de Ingreso\"].unique()})\n",
    "\n",
    "for item in dfTempAduanas[\"Aduanas\"]:\n",
    "    if(item  not in dfAduanas[\"Nombre Corto\"].values and item not in dfAduanas[\"Aduana\"].values):\n",
    "        dfAduanas =dfAduanas.append({\"Aduana\":item, \"Nombre Corto\":item}, ignore_index = True)\n",
    "        \n",
    "dfAduanas"
   ]
  },
  {
   "cell_type": "markdown",
   "id": "5ed051c1-d1ab-4826-ba5e-bea1a11225cc",
   "metadata": {},
   "source": [
    "### Creando las Dimensiones"
   ]
  },
  {
   "cell_type": "markdown",
   "id": "b398b167-4bc9-419d-b129-81bee2bea08e",
   "metadata": {},
   "source": [
    "##### Dimensión Aduanas"
   ]
  },
  {
   "cell_type": "code",
   "execution_count": 13,
   "id": "b7e21067-69d3-4bab-b72b-bfc157ce833c",
   "metadata": {},
   "outputs": [
    {
     "name": "stderr",
     "output_type": "stream",
     "text": [
      "/var/folders/hh/25c_zdz92t9c70mlh69s5tg80000gn/T/ipykernel_887/3749969793.py:3: FutureWarning: The frame.append method is deprecated and will be removed from pandas in a future version. Use pandas.concat instead.\n",
      "  dimAduana = dimAduana.append(dfAduanas)\n"
     ]
    },
    {
     "data": {
      "text/html": [
       "<div>\n",
       "<style scoped>\n",
       "    .dataframe tbody tr th:only-of-type {\n",
       "        vertical-align: middle;\n",
       "    }\n",
       "\n",
       "    .dataframe tbody tr th {\n",
       "        vertical-align: top;\n",
       "    }\n",
       "\n",
       "    .dataframe thead th {\n",
       "        text-align: right;\n",
       "    }\n",
       "</style>\n",
       "<table border=\"1\" class=\"dataframe\">\n",
       "  <thead>\n",
       "    <tr style=\"text-align: right;\">\n",
       "      <th></th>\n",
       "      <th>aduana_sk</th>\n",
       "      <th>aduana</th>\n",
       "      <th>nombre_corto</th>\n",
       "    </tr>\n",
       "  </thead>\n",
       "  <tbody>\n",
       "    <tr>\n",
       "      <th>0</th>\n",
       "      <td>1</td>\n",
       "      <td>ADUANA TECÚN UMÁN 1</td>\n",
       "      <td>TECÚN UMÁN 1</td>\n",
       "    </tr>\n",
       "    <tr>\n",
       "      <th>1</th>\n",
       "      <td>2</td>\n",
       "      <td>ADUANA INTEGRADA AGUA CALIENTE</td>\n",
       "      <td>INTEGRADA AGUA CALIENTE</td>\n",
       "    </tr>\n",
       "    <tr>\n",
       "      <th>2</th>\n",
       "      <td>3</td>\n",
       "      <td>ADUANA INTEGRADA CORINTO</td>\n",
       "      <td>INTEGRADA CORINTO</td>\n",
       "    </tr>\n",
       "    <tr>\n",
       "      <th>3</th>\n",
       "      <td>4</td>\n",
       "      <td>ADUANA INTEGRADA EL FLORIDO</td>\n",
       "      <td>INTEGRADA EL FLORIDO</td>\n",
       "    </tr>\n",
       "    <tr>\n",
       "      <th>4</th>\n",
       "      <td>5</td>\n",
       "      <td>ADUANA PUERTO QUETZAL</td>\n",
       "      <td>PUERTO QUETZAL</td>\n",
       "    </tr>\n",
       "  </tbody>\n",
       "</table>\n",
       "</div>"
      ],
      "text/plain": [
       "   aduana_sk                          aduana             nombre_corto\n",
       "0          1             ADUANA TECÚN UMÁN 1             TECÚN UMÁN 1\n",
       "1          2  ADUANA INTEGRADA AGUA CALIENTE  INTEGRADA AGUA CALIENTE\n",
       "2          3        ADUANA INTEGRADA CORINTO        INTEGRADA CORINTO\n",
       "3          4     ADUANA INTEGRADA EL FLORIDO     INTEGRADA EL FLORIDO\n",
       "4          5           ADUANA PUERTO QUETZAL           PUERTO QUETZAL"
      ]
     },
     "execution_count": 13,
     "metadata": {},
     "output_type": "execute_result"
    }
   ],
   "source": [
    "dimAduana = pd.DataFrame(columns= [\"aduana_sk\"])\n",
    "\n",
    "dimAduana = dimAduana.append(dfAduanas)\n",
    "dimAduana = dimAduana.rename(columns = {\"Aduana\":\"aduana\", \"Nombre Corto\":\"nombre_corto\"})\n",
    "dimAduana[\"aduana_sk\"] = range(1, len(dimAduana) + 1)\n",
    "dimAduana.head()"
   ]
  },
  {
   "cell_type": "markdown",
   "id": "fc26c4de-1d45-49e6-b251-b06e6966379d",
   "metadata": {},
   "source": [
    "##### Dimensión Fecha"
   ]
  },
  {
   "cell_type": "code",
   "execution_count": 14,
   "id": "a636b944-cc36-44e1-9949-e727eb2d0521",
   "metadata": {},
   "outputs": [
    {
     "data": {
      "text/html": [
       "<div>\n",
       "<style scoped>\n",
       "    .dataframe tbody tr th:only-of-type {\n",
       "        vertical-align: middle;\n",
       "    }\n",
       "\n",
       "    .dataframe tbody tr th {\n",
       "        vertical-align: top;\n",
       "    }\n",
       "\n",
       "    .dataframe thead th {\n",
       "        text-align: right;\n",
       "    }\n",
       "</style>\n",
       "<table border=\"1\" class=\"dataframe\">\n",
       "  <thead>\n",
       "    <tr style=\"text-align: right;\">\n",
       "      <th></th>\n",
       "      <th>fecha</th>\n",
       "    </tr>\n",
       "  </thead>\n",
       "  <tbody>\n",
       "    <tr>\n",
       "      <th>0</th>\n",
       "      <td>2022-01-18</td>\n",
       "    </tr>\n",
       "    <tr>\n",
       "      <th>9</th>\n",
       "      <td>2022-01-19</td>\n",
       "    </tr>\n",
       "    <tr>\n",
       "      <th>44</th>\n",
       "      <td>2022-01-26</td>\n",
       "    </tr>\n",
       "    <tr>\n",
       "      <th>54</th>\n",
       "      <td>2022-01-27</td>\n",
       "    </tr>\n",
       "    <tr>\n",
       "      <th>210</th>\n",
       "      <td>2022-02-07</td>\n",
       "    </tr>\n",
       "  </tbody>\n",
       "</table>\n",
       "</div>"
      ],
      "text/plain": [
       "         fecha\n",
       "0   2022-01-18\n",
       "9   2022-01-19\n",
       "44  2022-01-26\n",
       "54  2022-01-27\n",
       "210 2022-02-07"
      ]
     },
     "execution_count": 14,
     "metadata": {},
     "output_type": "execute_result"
    }
   ],
   "source": [
    "dimFecha = pd.DataFrame()\n",
    "\n",
    "dimFecha = pd.concat([dimFecha, dfImportaciones[\"Fecha de la Poliza\"]], axis = 1)\n",
    "dimFecha = dimFecha.rename(columns = {\"Fecha de la Poliza\": \"fecha\"})\n",
    "dimFecha = dimFecha.drop_duplicates(subset = \"fecha\")\n",
    "dimFecha[\"fecha\"] = pd.to_datetime(dimFecha[\"fecha\"], format = \"%d/%m/%Y\")\n",
    "dimFecha.head()"
   ]
  },
  {
   "cell_type": "code",
   "execution_count": 15,
   "id": "f68a0385-17a2-4ba4-9cbd-517bf7c3fdf9",
   "metadata": {},
   "outputs": [
    {
     "name": "stderr",
     "output_type": "stream",
     "text": [
      "/var/folders/hh/25c_zdz92t9c70mlh69s5tg80000gn/T/ipykernel_887/2673028398.py:5: FutureWarning: weekofyear and week have been deprecated, please use DatetimeIndex.isocalendar().week instead, which returns a Series. To exactly reproduce the behavior of week and weekofyear and return an Index, you may call pd.Int64Index(idx.isocalendar().week)\n",
      "  dimFecha[\"semana\"] = pd.DatetimeIndex(dimFecha[\"fecha\"]).week\n"
     ]
    },
    {
     "data": {
      "text/html": [
       "<div>\n",
       "<style scoped>\n",
       "    .dataframe tbody tr th:only-of-type {\n",
       "        vertical-align: middle;\n",
       "    }\n",
       "\n",
       "    .dataframe tbody tr th {\n",
       "        vertical-align: top;\n",
       "    }\n",
       "\n",
       "    .dataframe thead th {\n",
       "        text-align: right;\n",
       "    }\n",
       "</style>\n",
       "<table border=\"1\" class=\"dataframe\">\n",
       "  <thead>\n",
       "    <tr style=\"text-align: right;\">\n",
       "      <th></th>\n",
       "      <th>fecha</th>\n",
       "      <th>anio</th>\n",
       "      <th>mes</th>\n",
       "      <th>trimestre</th>\n",
       "      <th>dia</th>\n",
       "      <th>semana</th>\n",
       "      <th>dia_semana</th>\n",
       "    </tr>\n",
       "  </thead>\n",
       "  <tbody>\n",
       "    <tr>\n",
       "      <th>0</th>\n",
       "      <td>2022-01-18</td>\n",
       "      <td>2022</td>\n",
       "      <td>1</td>\n",
       "      <td>1</td>\n",
       "      <td>18</td>\n",
       "      <td>3</td>\n",
       "      <td>1</td>\n",
       "    </tr>\n",
       "    <tr>\n",
       "      <th>9</th>\n",
       "      <td>2022-01-19</td>\n",
       "      <td>2022</td>\n",
       "      <td>1</td>\n",
       "      <td>1</td>\n",
       "      <td>19</td>\n",
       "      <td>3</td>\n",
       "      <td>2</td>\n",
       "    </tr>\n",
       "    <tr>\n",
       "      <th>44</th>\n",
       "      <td>2022-01-26</td>\n",
       "      <td>2022</td>\n",
       "      <td>1</td>\n",
       "      <td>1</td>\n",
       "      <td>26</td>\n",
       "      <td>4</td>\n",
       "      <td>2</td>\n",
       "    </tr>\n",
       "    <tr>\n",
       "      <th>54</th>\n",
       "      <td>2022-01-27</td>\n",
       "      <td>2022</td>\n",
       "      <td>1</td>\n",
       "      <td>1</td>\n",
       "      <td>27</td>\n",
       "      <td>4</td>\n",
       "      <td>3</td>\n",
       "    </tr>\n",
       "    <tr>\n",
       "      <th>210</th>\n",
       "      <td>2022-02-07</td>\n",
       "      <td>2022</td>\n",
       "      <td>2</td>\n",
       "      <td>1</td>\n",
       "      <td>7</td>\n",
       "      <td>6</td>\n",
       "      <td>0</td>\n",
       "    </tr>\n",
       "  </tbody>\n",
       "</table>\n",
       "</div>"
      ],
      "text/plain": [
       "         fecha  anio  mes  trimestre  dia  semana  dia_semana\n",
       "0   2022-01-18  2022    1          1   18       3           1\n",
       "9   2022-01-19  2022    1          1   19       3           2\n",
       "44  2022-01-26  2022    1          1   26       4           2\n",
       "54  2022-01-27  2022    1          1   27       4           3\n",
       "210 2022-02-07  2022    2          1    7       6           0"
      ]
     },
     "execution_count": 15,
     "metadata": {},
     "output_type": "execute_result"
    }
   ],
   "source": [
    "dimFecha[\"anio\"] = pd.DatetimeIndex(dimFecha[\"fecha\"]).year\n",
    "dimFecha[\"mes\"] = pd.DatetimeIndex(dimFecha[\"fecha\"]).month\n",
    "dimFecha[\"trimestre\"] = pd.DatetimeIndex(dimFecha[\"fecha\"]).quarter\n",
    "dimFecha[\"dia\"] = pd.DatetimeIndex(dimFecha[\"fecha\"]).day\n",
    "dimFecha[\"semana\"] = pd.DatetimeIndex(dimFecha[\"fecha\"]).week\n",
    "dimFecha[\"dia_semana\"] = pd.DatetimeIndex(dimFecha[\"fecha\"]).dayofweek\n",
    "dimFecha.head()"
   ]
  },
  {
   "cell_type": "markdown",
   "id": "e95402f9-c270-40ce-a97c-f185cca8c2fc",
   "metadata": {},
   "source": [
    "##### Dimensión Tipo Importador"
   ]
  },
  {
   "cell_type": "code",
   "execution_count": 16,
   "id": "0e493e7d-b73a-4561-af02-ab800c024741",
   "metadata": {},
   "outputs": [
    {
     "data": {
      "text/html": [
       "<div>\n",
       "<style scoped>\n",
       "    .dataframe tbody tr th:only-of-type {\n",
       "        vertical-align: middle;\n",
       "    }\n",
       "\n",
       "    .dataframe tbody tr th {\n",
       "        vertical-align: top;\n",
       "    }\n",
       "\n",
       "    .dataframe thead th {\n",
       "        text-align: right;\n",
       "    }\n",
       "</style>\n",
       "<table border=\"1\" class=\"dataframe\">\n",
       "  <thead>\n",
       "    <tr style=\"text-align: right;\">\n",
       "      <th></th>\n",
       "      <th>tipo_importador_sk</th>\n",
       "      <th>tipo_importador</th>\n",
       "    </tr>\n",
       "  </thead>\n",
       "  <tbody>\n",
       "    <tr>\n",
       "      <th>0</th>\n",
       "      <td>1</td>\n",
       "      <td>DISTRIBUIDOR</td>\n",
       "    </tr>\n",
       "    <tr>\n",
       "      <th>9</th>\n",
       "      <td>2</td>\n",
       "      <td>OCASIONAL</td>\n",
       "    </tr>\n",
       "  </tbody>\n",
       "</table>\n",
       "</div>"
      ],
      "text/plain": [
       "   tipo_importador_sk tipo_importador\n",
       "0                   1    DISTRIBUIDOR\n",
       "9                   2       OCASIONAL"
      ]
     },
     "execution_count": 16,
     "metadata": {},
     "output_type": "execute_result"
    }
   ],
   "source": [
    "dimTipoImportador = pd.DataFrame(columns = [\"tipo_importador_sk\"])\n",
    "\n",
    "dimTipoImportador = pd.concat([dimTipoImportador, dfImportaciones[\"Tipo de Importador\"].drop_duplicates()])\n",
    "dimTipoImportador = dimTipoImportador.rename(columns = {0:\"tipo_importador\"})\n",
    "dimTipoImportador[\"tipo_importador_sk\"] = range(1, len(dimTipoImportador)+1)\n",
    "dimTipoImportador.head()"
   ]
  },
  {
   "cell_type": "markdown",
   "id": "b2148b74-69af-4846-9e45-8bbb682086fb",
   "metadata": {},
   "source": [
    "##### Dimensión Partida arancelaria"
   ]
  },
  {
   "cell_type": "code",
   "execution_count": 17,
   "id": "6008591c-bf5e-42f7-933b-798046a80809",
   "metadata": {},
   "outputs": [
    {
     "data": {
      "text/html": [
       "<div>\n",
       "<style scoped>\n",
       "    .dataframe tbody tr th:only-of-type {\n",
       "        vertical-align: middle;\n",
       "    }\n",
       "\n",
       "    .dataframe tbody tr th {\n",
       "        vertical-align: top;\n",
       "    }\n",
       "\n",
       "    .dataframe thead th {\n",
       "        text-align: right;\n",
       "    }\n",
       "</style>\n",
       "<table border=\"1\" class=\"dataframe\">\n",
       "  <thead>\n",
       "    <tr style=\"text-align: right;\">\n",
       "      <th></th>\n",
       "      <th>partida_arancelaria_sk</th>\n",
       "      <th>partida_arancelaria</th>\n",
       "    </tr>\n",
       "  </thead>\n",
       "  <tbody>\n",
       "    <tr>\n",
       "      <th>0</th>\n",
       "      <td>1</td>\n",
       "      <td>8711209000</td>\n",
       "    </tr>\n",
       "    <tr>\n",
       "      <th>44</th>\n",
       "      <td>2</td>\n",
       "      <td>8703236991</td>\n",
       "    </tr>\n",
       "    <tr>\n",
       "      <th>45</th>\n",
       "      <td>3</td>\n",
       "      <td>8704215900</td>\n",
       "    </tr>\n",
       "    <tr>\n",
       "      <th>52</th>\n",
       "      <td>4</td>\n",
       "      <td>8703326991</td>\n",
       "    </tr>\n",
       "    <tr>\n",
       "      <th>53</th>\n",
       "      <td>5</td>\n",
       "      <td>8703237991</td>\n",
       "    </tr>\n",
       "  </tbody>\n",
       "</table>\n",
       "</div>"
      ],
      "text/plain": [
       "    partida_arancelaria_sk  partida_arancelaria\n",
       "0                        1           8711209000\n",
       "44                       2           8703236991\n",
       "45                       3           8704215900\n",
       "52                       4           8703326991\n",
       "53                       5           8703237991"
      ]
     },
     "execution_count": 17,
     "metadata": {},
     "output_type": "execute_result"
    }
   ],
   "source": [
    "dimPartidaArancelaria = pd.DataFrame(columns = [\"partida_arancelaria_sk\"])\n",
    "\n",
    "dimPartidaArancelaria = pd.concat([dimPartidaArancelaria, dfImportaciones[\"Partida Arancelaria\"]])\n",
    "dimPartidaArancelaria = dimPartidaArancelaria.rename(columns = {0: \"partida_arancelaria\"})\n",
    "dimPartidaArancelaria[\"partida_arancelaria\"] = pd.to_numeric(dimPartidaArancelaria[\"partida_arancelaria\"], downcast = \"integer\")\n",
    "dimPartidaArancelaria = dimPartidaArancelaria.drop_duplicates()\n",
    "dimPartidaArancelaria[\"partida_arancelaria_sk\"] = range(1, len(dimPartidaArancelaria)+1)\n",
    "dimPartidaArancelaria.head()"
   ]
  },
  {
   "cell_type": "markdown",
   "id": "b5792645-3e16-43bb-8ac0-bc7d7b7cb79e",
   "metadata": {},
   "source": [
    "##### Dimensión Países"
   ]
  },
  {
   "cell_type": "code",
   "execution_count": 18,
   "id": "b763fd2c-29eb-4082-8c91-ad70f19b41f4",
   "metadata": {},
   "outputs": [
    {
     "data": {
      "text/html": [
       "<div>\n",
       "<style scoped>\n",
       "    .dataframe tbody tr th:only-of-type {\n",
       "        vertical-align: middle;\n",
       "    }\n",
       "\n",
       "    .dataframe tbody tr th {\n",
       "        vertical-align: top;\n",
       "    }\n",
       "\n",
       "    .dataframe thead th {\n",
       "        text-align: right;\n",
       "    }\n",
       "</style>\n",
       "<table border=\"1\" class=\"dataframe\">\n",
       "  <thead>\n",
       "    <tr style=\"text-align: right;\">\n",
       "      <th></th>\n",
       "      <th>pais_sk</th>\n",
       "      <th>pais</th>\n",
       "    </tr>\n",
       "  </thead>\n",
       "  <tbody>\n",
       "    <tr>\n",
       "      <th>0</th>\n",
       "      <td>1</td>\n",
       "      <td>CHINA</td>\n",
       "    </tr>\n",
       "    <tr>\n",
       "      <th>9</th>\n",
       "      <td>2</td>\n",
       "      <td>INDIA</td>\n",
       "    </tr>\n",
       "    <tr>\n",
       "      <th>44</th>\n",
       "      <td>3</td>\n",
       "      <td>CANADA</td>\n",
       "    </tr>\n",
       "    <tr>\n",
       "      <th>45</th>\n",
       "      <td>4</td>\n",
       "      <td>ARGENTINA</td>\n",
       "    </tr>\n",
       "    <tr>\n",
       "      <th>52</th>\n",
       "      <td>5</td>\n",
       "      <td>COREA DEL SUR</td>\n",
       "    </tr>\n",
       "  </tbody>\n",
       "</table>\n",
       "</div>"
      ],
      "text/plain": [
       "    pais_sk           pais\n",
       "0         1          CHINA\n",
       "9         2          INDIA\n",
       "44        3         CANADA\n",
       "45        4      ARGENTINA\n",
       "52        5  COREA DEL SUR"
      ]
     },
     "execution_count": 18,
     "metadata": {},
     "output_type": "execute_result"
    }
   ],
   "source": [
    "dimPais = pd.DataFrame(columns = [\"pais_sk\"])\n",
    "\n",
    "dimPais = pd.concat([dimPais, dfImportaciones[\"Pais de Proveniencia\"].drop_duplicates()])\n",
    "dimPais = dimPais.rename(columns = {0: \"pais\"})\n",
    "dimPais[\"pais_sk\"] = range(1, len(dimPais) + 1)\n",
    "dimPais.head()"
   ]
  },
  {
   "cell_type": "markdown",
   "id": "4844609c-6354-4196-b8e9-f53d23986c66",
   "metadata": {},
   "source": [
    "##### Dimensión Vehiculos"
   ]
  },
  {
   "cell_type": "code",
   "execution_count": 19,
   "id": "876f841e-d79f-44f7-9df2-07d9b2e6c298",
   "metadata": {},
   "outputs": [
    {
     "data": {
      "text/html": [
       "<div>\n",
       "<style scoped>\n",
       "    .dataframe tbody tr th:only-of-type {\n",
       "        vertical-align: middle;\n",
       "    }\n",
       "\n",
       "    .dataframe tbody tr th {\n",
       "        vertical-align: top;\n",
       "    }\n",
       "\n",
       "    .dataframe thead th {\n",
       "        text-align: right;\n",
       "    }\n",
       "</style>\n",
       "<table border=\"1\" class=\"dataframe\">\n",
       "  <thead>\n",
       "    <tr style=\"text-align: right;\">\n",
       "      <th></th>\n",
       "      <th>vehiculo_sk</th>\n",
       "      <th>modelo</th>\n",
       "      <th>marca</th>\n",
       "      <th>linea</th>\n",
       "      <th>centimetros_cubicos</th>\n",
       "      <th>distintivo</th>\n",
       "      <th>tipo</th>\n",
       "      <th>combustible</th>\n",
       "      <th>asientos</th>\n",
       "      <th>puertas</th>\n",
       "      <th>tonelaje</th>\n",
       "    </tr>\n",
       "  </thead>\n",
       "  <tbody>\n",
       "    <tr>\n",
       "      <th>0</th>\n",
       "      <td>1</td>\n",
       "      <td>2022.0</td>\n",
       "      <td>YAMAHA</td>\n",
       "      <td>T110C</td>\n",
       "      <td>110.0</td>\n",
       "      <td>LIVIANO</td>\n",
       "      <td>MOTO</td>\n",
       "      <td>GASOLINA</td>\n",
       "      <td>2.0</td>\n",
       "      <td>0.0</td>\n",
       "      <td>0.0</td>\n",
       "    </tr>\n",
       "    <tr>\n",
       "      <th>9</th>\n",
       "      <td>2</td>\n",
       "      <td>2021.0</td>\n",
       "      <td>HONDA</td>\n",
       "      <td>NAVI 110</td>\n",
       "      <td>109.0</td>\n",
       "      <td>LIVIANO</td>\n",
       "      <td>MOTO</td>\n",
       "      <td>GASOLINA</td>\n",
       "      <td>2.0</td>\n",
       "      <td>0.0</td>\n",
       "      <td>0.0</td>\n",
       "    </tr>\n",
       "    <tr>\n",
       "      <th>44</th>\n",
       "      <td>3</td>\n",
       "      <td>2005.0</td>\n",
       "      <td>TOYOTA</td>\n",
       "      <td>MATRIX</td>\n",
       "      <td>1800.0</td>\n",
       "      <td>LIVIANO</td>\n",
       "      <td>CAMIONETILLA</td>\n",
       "      <td>GASOLINA</td>\n",
       "      <td>5.0</td>\n",
       "      <td>4.0</td>\n",
       "      <td>0.0</td>\n",
       "    </tr>\n",
       "    <tr>\n",
       "      <th>45</th>\n",
       "      <td>4</td>\n",
       "      <td>2022.0</td>\n",
       "      <td>TOYOTA</td>\n",
       "      <td>HILUX</td>\n",
       "      <td>2393.0</td>\n",
       "      <td>LIVIANO</td>\n",
       "      <td>PICK UP</td>\n",
       "      <td>DIESEL</td>\n",
       "      <td>3.0</td>\n",
       "      <td>2.0</td>\n",
       "      <td>1.0</td>\n",
       "    </tr>\n",
       "    <tr>\n",
       "      <th>52</th>\n",
       "      <td>5</td>\n",
       "      <td>2007.0</td>\n",
       "      <td>KIA</td>\n",
       "      <td>SPORTAGE TLX 2WD</td>\n",
       "      <td>2000.0</td>\n",
       "      <td>LIVIANO</td>\n",
       "      <td>CAMIONETA</td>\n",
       "      <td>DIESEL</td>\n",
       "      <td>5.0</td>\n",
       "      <td>5.0</td>\n",
       "      <td>0.0</td>\n",
       "    </tr>\n",
       "  </tbody>\n",
       "</table>\n",
       "</div>"
      ],
      "text/plain": [
       "    vehiculo_sk  modelo   marca             linea  centimetros_cubicos  \\\n",
       "0             1  2022.0  YAMAHA             T110C                110.0   \n",
       "9             2  2021.0   HONDA          NAVI 110                109.0   \n",
       "44            3  2005.0  TOYOTA            MATRIX               1800.0   \n",
       "45            4  2022.0  TOYOTA             HILUX               2393.0   \n",
       "52            5  2007.0     KIA  SPORTAGE TLX 2WD               2000.0   \n",
       "\n",
       "   distintivo          tipo combustible  asientos  puertas  tonelaje  \n",
       "0     LIVIANO          MOTO    GASOLINA       2.0      0.0       0.0  \n",
       "9     LIVIANO          MOTO    GASOLINA       2.0      0.0       0.0  \n",
       "44    LIVIANO  CAMIONETILLA    GASOLINA       5.0      4.0       0.0  \n",
       "45    LIVIANO       PICK UP      DIESEL       3.0      2.0       1.0  \n",
       "52    LIVIANO     CAMIONETA      DIESEL       5.0      5.0       0.0  "
      ]
     },
     "execution_count": 19,
     "metadata": {},
     "output_type": "execute_result"
    }
   ],
   "source": [
    "dimVehiculo = pd.DataFrame(columns = [\"vehiculo_sk\"])\n",
    "\n",
    "dimVehiculo = pd.concat([dimVehiculo, dfImportaciones.loc[:,[\"Modelo del Vehiculo\", \"Marca\", \"Linea\", \"Centimetros Cubicos\", \"Distintivo\", \n",
    "                                                      \"Tipo de Vehiculo\", \"Tipo Combustible\", \"Asientos\", \"Puertas\", \"Tonelaje\"]]])\n",
    "dimVehiculo = dimVehiculo.rename(columns = {\"Modelo del Vehiculo\": \"modelo\", \"Marca\":\"marca\", \"Linea\":\"linea\", \"Centimetros Cubicos\" : \"centimetros_cubicos\",\n",
    "                                         \"Distintivo\":\"distintivo\", \"Tipo de Vehiculo\": \"tipo\", \"Tipo Combustible\": \"combustible\", \"Asientos\": \"asientos\",\n",
    "                                         \"Puertas\": \"puertas\", \"Tonelaje\": \"tonelaje\"})\n",
    "dimVehiculo = dimVehiculo.drop_duplicates()\n",
    "dimVehiculo[\"vehiculo_sk\"] = range(1, len(dimVehiculo) +1)\n",
    "dimVehiculo.head()"
   ]
  },
  {
   "cell_type": "markdown",
   "id": "0a5d67cd-36d2-4bb9-b0a8-057af26a383f",
   "metadata": {},
   "source": [
    "### Creando la Tabla de Hechos"
   ]
  },
  {
   "cell_type": "code",
   "execution_count": 20,
   "id": "bb6f9ef4-177d-4df7-8811-f7d88b26ac2d",
   "metadata": {},
   "outputs": [
    {
     "name": "stderr",
     "output_type": "stream",
     "text": [
      "/var/folders/hh/25c_zdz92t9c70mlh69s5tg80000gn/T/ipykernel_887/614960734.py:3: FutureWarning: The frame.append method is deprecated and will be removed from pandas in a future version. Use pandas.concat instead.\n",
      "  factImportaciones = factImportaciones.append(dfImportaciones)\n"
     ]
    },
    {
     "data": {
      "text/html": [
       "<div>\n",
       "<style scoped>\n",
       "    .dataframe tbody tr th:only-of-type {\n",
       "        vertical-align: middle;\n",
       "    }\n",
       "\n",
       "    .dataframe tbody tr th {\n",
       "        vertical-align: top;\n",
       "    }\n",
       "\n",
       "    .dataframe thead th {\n",
       "        text-align: right;\n",
       "    }\n",
       "</style>\n",
       "<table border=\"1\" class=\"dataframe\">\n",
       "  <thead>\n",
       "    <tr style=\"text-align: right;\">\n",
       "      <th></th>\n",
       "      <th>fecha</th>\n",
       "      <th>pais_sk</th>\n",
       "      <th>aduana_sk</th>\n",
       "      <th>partida_arancelaria_sk</th>\n",
       "      <th>tipo_importador_sk</th>\n",
       "      <th>vehiculo_sk</th>\n",
       "      <th>valor_cif</th>\n",
       "      <th>impuesto</th>\n",
       "    </tr>\n",
       "  </thead>\n",
       "  <tbody>\n",
       "    <tr>\n",
       "      <th>0</th>\n",
       "      <td>2022-01-18</td>\n",
       "      <td>1</td>\n",
       "      <td>5</td>\n",
       "      <td>1</td>\n",
       "      <td>1</td>\n",
       "      <td>1</td>\n",
       "      <td>767777.85</td>\n",
       "      <td>92133.34</td>\n",
       "    </tr>\n",
       "    <tr>\n",
       "      <th>1</th>\n",
       "      <td>2022-01-18</td>\n",
       "      <td>1</td>\n",
       "      <td>5</td>\n",
       "      <td>1</td>\n",
       "      <td>1</td>\n",
       "      <td>1</td>\n",
       "      <td>767777.85</td>\n",
       "      <td>92133.34</td>\n",
       "    </tr>\n",
       "    <tr>\n",
       "      <th>2</th>\n",
       "      <td>2022-01-18</td>\n",
       "      <td>1</td>\n",
       "      <td>5</td>\n",
       "      <td>1</td>\n",
       "      <td>1</td>\n",
       "      <td>1</td>\n",
       "      <td>767777.85</td>\n",
       "      <td>92133.34</td>\n",
       "    </tr>\n",
       "    <tr>\n",
       "      <th>3</th>\n",
       "      <td>2022-01-18</td>\n",
       "      <td>1</td>\n",
       "      <td>5</td>\n",
       "      <td>1</td>\n",
       "      <td>1</td>\n",
       "      <td>1</td>\n",
       "      <td>767777.85</td>\n",
       "      <td>92133.34</td>\n",
       "    </tr>\n",
       "    <tr>\n",
       "      <th>4</th>\n",
       "      <td>2022-01-18</td>\n",
       "      <td>1</td>\n",
       "      <td>5</td>\n",
       "      <td>1</td>\n",
       "      <td>1</td>\n",
       "      <td>1</td>\n",
       "      <td>767777.85</td>\n",
       "      <td>92133.34</td>\n",
       "    </tr>\n",
       "    <tr>\n",
       "      <th>...</th>\n",
       "      <td>...</td>\n",
       "      <td>...</td>\n",
       "      <td>...</td>\n",
       "      <td>...</td>\n",
       "      <td>...</td>\n",
       "      <td>...</td>\n",
       "      <td>...</td>\n",
       "      <td>...</td>\n",
       "    </tr>\n",
       "    <tr>\n",
       "      <th>76403</th>\n",
       "      <td>2022-03-07</td>\n",
       "      <td>7</td>\n",
       "      <td>5</td>\n",
       "      <td>113</td>\n",
       "      <td>2</td>\n",
       "      <td>9251</td>\n",
       "      <td>324070.82</td>\n",
       "      <td>38888.50</td>\n",
       "    </tr>\n",
       "    <tr>\n",
       "      <th>76404</th>\n",
       "      <td>2022-03-07</td>\n",
       "      <td>7</td>\n",
       "      <td>5</td>\n",
       "      <td>113</td>\n",
       "      <td>2</td>\n",
       "      <td>9251</td>\n",
       "      <td>324070.67</td>\n",
       "      <td>38888.48</td>\n",
       "    </tr>\n",
       "    <tr>\n",
       "      <th>76405</th>\n",
       "      <td>2022-03-07</td>\n",
       "      <td>7</td>\n",
       "      <td>5</td>\n",
       "      <td>113</td>\n",
       "      <td>2</td>\n",
       "      <td>9251</td>\n",
       "      <td>324070.67</td>\n",
       "      <td>38888.48</td>\n",
       "    </tr>\n",
       "    <tr>\n",
       "      <th>76406</th>\n",
       "      <td>2022-02-28</td>\n",
       "      <td>6</td>\n",
       "      <td>6</td>\n",
       "      <td>112</td>\n",
       "      <td>2</td>\n",
       "      <td>8877</td>\n",
       "      <td>404665.71</td>\n",
       "      <td>48559.89</td>\n",
       "    </tr>\n",
       "    <tr>\n",
       "      <th>76407</th>\n",
       "      <td>2022-02-28</td>\n",
       "      <td>6</td>\n",
       "      <td>6</td>\n",
       "      <td>112</td>\n",
       "      <td>2</td>\n",
       "      <td>9006</td>\n",
       "      <td>405087.08</td>\n",
       "      <td>48610.45</td>\n",
       "    </tr>\n",
       "  </tbody>\n",
       "</table>\n",
       "<p>76408 rows × 8 columns</p>\n",
       "</div>"
      ],
      "text/plain": [
       "           fecha  pais_sk  aduana_sk  partida_arancelaria_sk  \\\n",
       "0     2022-01-18        1          5                       1   \n",
       "1     2022-01-18        1          5                       1   \n",
       "2     2022-01-18        1          5                       1   \n",
       "3     2022-01-18        1          5                       1   \n",
       "4     2022-01-18        1          5                       1   \n",
       "...          ...      ...        ...                     ...   \n",
       "76403 2022-03-07        7          5                     113   \n",
       "76404 2022-03-07        7          5                     113   \n",
       "76405 2022-03-07        7          5                     113   \n",
       "76406 2022-02-28        6          6                     112   \n",
       "76407 2022-02-28        6          6                     112   \n",
       "\n",
       "       tipo_importador_sk  vehiculo_sk  valor_cif  impuesto  \n",
       "0                       1            1  767777.85  92133.34  \n",
       "1                       1            1  767777.85  92133.34  \n",
       "2                       1            1  767777.85  92133.34  \n",
       "3                       1            1  767777.85  92133.34  \n",
       "4                       1            1  767777.85  92133.34  \n",
       "...                   ...          ...        ...       ...  \n",
       "76403                   2         9251  324070.82  38888.50  \n",
       "76404                   2         9251  324070.67  38888.48  \n",
       "76405                   2         9251  324070.67  38888.48  \n",
       "76406                   2         8877  404665.71  48559.89  \n",
       "76407                   2         9006  405087.08  48610.45  \n",
       "\n",
       "[76408 rows x 8 columns]"
      ]
     },
     "execution_count": 20,
     "metadata": {},
     "output_type": "execute_result"
    }
   ],
   "source": [
    "factImportaciones = pd.DataFrame()\n",
    "\n",
    "factImportaciones = factImportaciones.append(dfImportaciones)\n",
    "factImportaciones[\"Fecha de la Poliza\"] = pd.to_datetime(factImportaciones[\"Fecha de la Poliza\"], format = \"%d/%m/%Y\")\n",
    "factImportaciones = factImportaciones.rename(columns = {\"Valor CIF\": \"valor_cif\", \"Impuesto\":\"impuesto\"})\n",
    "\n",
    "#merge fact y dimensiones\n",
    "factImportaciones = factImportaciones.merge(dimPais, left_on=\"Pais de Proveniencia\", right_on=\"pais\").drop(columns = [\"Pais de Proveniencia\", \"pais\"])\n",
    "factImportaciones = factImportaciones.merge(dimAduana[[\"aduana_sk\", \"nombre_corto\"]], left_on=\"Aduana de Ingreso\", right_on=\"nombre_corto\").drop(columns = [\"Aduana de Ingreso\", \"nombre_corto\"])\n",
    "factImportaciones = factImportaciones.merge(dimFecha[[\"fecha\"]], left_on=\"Fecha de la Poliza\", right_on=\"fecha\").drop(columns = [\"Fecha de la Poliza\"])\n",
    "factImportaciones = factImportaciones.merge(dimTipoImportador, left_on=\"Tipo de Importador\", right_on=\"tipo_importador\").drop(columns = [\"Tipo de Importador\", \"tipo_importador\"])\n",
    "factImportaciones = factImportaciones.merge(dimVehiculo, left_on=[\"Modelo del Vehiculo\", \"Marca\", \"Linea\", \"Centimetros Cubicos\", \"Distintivo\", \n",
    "                                                      \"Tipo de Vehiculo\", \"Tipo Combustible\", \"Asientos\", \"Puertas\", \"Tonelaje\"], right_on=[\"modelo\", \"marca\", \"linea\", \"centimetros_cubicos\", \"distintivo\", \n",
    "                                                      \"tipo\", \"combustible\", \"asientos\", \"puertas\", \"tonelaje\"]).drop(columns = [\"Modelo del Vehiculo\", \"Marca\", \"Linea\", \"Centimetros Cubicos\", \"Distintivo\", \n",
    "                                                      \"Tipo de Vehiculo\", \"Tipo Combustible\", \"Asientos\", \"Puertas\", \"Tonelaje\",\"modelo\", \"marca\", \"linea\", \"centimetros_cubicos\", \"distintivo\", \n",
    "                                                      \"tipo\", \"combustible\", \"asientos\", \"puertas\", \"tonelaje\"])\n",
    "factImportaciones = factImportaciones.merge(dimPartidaArancelaria, left_on=\"Partida Arancelaria\", right_on=\"partida_arancelaria\").drop(columns = [\"Partida Arancelaria\", \"partida_arancelaria\"])\n",
    "\n",
    "factImportaciones = factImportaciones[[\"fecha\", \"pais_sk\", \"aduana_sk\", \"partida_arancelaria_sk\", \"tipo_importador_sk\", \"vehiculo_sk\",\"valor_cif\", \"impuesto\"]]\n",
    "factImportaciones"
   ]
  },
  {
   "cell_type": "markdown",
   "id": "3a36104c-1eff-4ec1-ab89-911e5b4c8d1a",
   "metadata": {},
   "source": [
    "### Cargando a Redshift"
   ]
  },
  {
   "cell_type": "code",
   "execution_count": 52,
   "id": "ff26db4b-1ba0-44c4-aa5a-c7c6d4266616",
   "metadata": {},
   "outputs": [],
   "source": [
    "connection_engine = create_engine(redshift_connection)"
   ]
  },
  {
   "cell_type": "code",
   "execution_count": 55,
   "id": "50a8712c-f258-4801-98f4-7fc8e4d6c469",
   "metadata": {},
   "outputs": [
    {
     "data": {
      "text/plain": [
       "76408"
      ]
     },
     "execution_count": 55,
     "metadata": {},
     "output_type": "execute_result"
    }
   ],
   "source": [
    "#Insert de las dimensiones y tabla de hechos\n",
    "dimAduana.to_sql(\"dim_aduana\", connection_engine, index = False, if_exists = \"append\")\n",
    "dimFecha.to_sql(\"dim_fecha\", connection_engine, index = False, if_exists = \"append\", method=\"multi\")\n",
    "dimTipoImportador.to_sql(\"dim_tipo_importador\", connection_engine, index = False, if_exists = \"append\")\n",
    "dimPartidaArancelaria.to_sql(\"dim_partida_arancelaria\", connection_engine, index = False, if_exists = \"append\", method=\"multi\")\n",
    "dimPais.to_sql(\"dim_pais\", connection_engine, index = False, if_exists = \"append\", method=\"multi\")\n",
    "dimVehiculo.to_sql(\"dim_vehiculo\", connection_engine, index = False, if_exists = \"append\", method=\"multi\")\n",
    "factImportaciones.to_sql(\"fact_importaciones\", connection_engine, index = False, if_exists = \"append\", method=\"multi\")"
   ]
  },
  {
   "cell_type": "markdown",
   "id": "a39d49fc-d905-499a-8672-dca99e56ca9e",
   "metadata": {},
   "source": [
    "## Analitica"
   ]
  },
  {
   "cell_type": "markdown",
   "id": "96c03b67-4ace-425c-a9ae-4409eeb00831",
   "metadata": {},
   "source": [
    "##### ¿Cuál fue el monto recaudado en impuesto para enero y febrero de 2022?"
   ]
  },
  {
   "cell_type": "code",
   "execution_count": 56,
   "id": "2341f891-c956-40ae-bead-1afb1e58f444",
   "metadata": {},
   "outputs": [
    {
     "data": {
      "text/plain": [
       "8297207141.788323"
      ]
     },
     "execution_count": 56,
     "metadata": {},
     "output_type": "execute_result"
    }
   ],
   "source": [
    "sum(factImportaciones[\"impuesto\"])"
   ]
  },
  {
   "cell_type": "markdown",
   "id": "341ed5a9-3049-4b43-a305-c88df282f5b5",
   "metadata": {},
   "source": [
    "El impuesto recaudado para enero y febrero 2022 es de Q. 8,297,207,141.79"
   ]
  },
  {
   "cell_type": "markdown",
   "id": "4b71547f-7b78-4382-a05b-9708b4753270",
   "metadata": {},
   "source": [
    "##### ¿Cuánto es el impuesto recaudado por día?"
   ]
  },
  {
   "cell_type": "code",
   "execution_count": 152,
   "id": "bf1a0bef-962f-4816-906c-2cd82f58bd5a",
   "metadata": {},
   "outputs": [
    {
     "data": {
      "text/plain": [
       "fecha\n",
       "2022-01-08    5.954568e+05\n",
       "2022-01-09    5.410548e+04\n",
       "2022-01-10    1.482876e+08\n",
       "2022-01-11    2.084106e+08\n",
       "2022-01-12    1.519079e+08\n",
       "2022-01-13    9.263677e+07\n",
       "2022-01-14    2.855507e+08\n",
       "2022-01-15    7.303961e+05\n",
       "2022-01-16    1.362530e+05\n",
       "2022-01-17    7.940829e+07\n",
       "2022-01-18    6.323541e+08\n",
       "2022-01-19    2.571232e+08\n",
       "2022-01-20    1.978454e+07\n",
       "2022-01-21    1.640633e+08\n",
       "2022-01-22    8.990819e+05\n",
       "2022-01-23    2.743252e+05\n",
       "2022-01-24    3.005043e+07\n",
       "2022-01-25    4.441352e+08\n",
       "2022-01-26    7.356601e+08\n",
       "2022-01-27    4.271329e+07\n",
       "2022-01-28    3.217900e+08\n",
       "2022-01-29    1.701847e+07\n",
       "2022-01-30    4.126262e+05\n",
       "2022-01-31    5.403526e+07\n",
       "2022-02-01    2.276849e+08\n",
       "2022-02-02    2.933588e+08\n",
       "2022-02-03    1.456622e+07\n",
       "2022-02-04    1.414441e+07\n",
       "2022-02-05    1.945745e+07\n",
       "2022-02-06    5.021689e+05\n",
       "2022-02-07    1.631682e+08\n",
       "2022-02-08    3.188953e+08\n",
       "2022-02-09    5.583870e+08\n",
       "2022-02-10    3.248286e+08\n",
       "2022-02-11    1.531459e+08\n",
       "2022-02-12    1.659576e+07\n",
       "2022-02-13    4.053793e+05\n",
       "2022-02-14    5.109971e+07\n",
       "2022-02-15    1.078875e+08\n",
       "2022-02-16    2.193177e+06\n",
       "2022-02-17    2.465202e+06\n",
       "2022-02-18    4.945058e+07\n",
       "2022-02-19    1.150546e+06\n",
       "2022-02-20    4.214860e+05\n",
       "2022-02-21    2.274169e+08\n",
       "2022-02-22    5.531984e+07\n",
       "2022-02-23    1.643508e+08\n",
       "2022-02-24    4.030091e+08\n",
       "2022-02-25    1.170678e+07\n",
       "2022-02-26    1.045488e+06\n",
       "2022-02-27    4.061960e+05\n",
       "2022-02-28    1.046704e+07\n",
       "2022-03-01    8.225680e+08\n",
       "2022-03-02    5.240608e+07\n",
       "2022-03-03    7.443832e+07\n",
       "2022-03-04    3.653698e+08\n",
       "2022-03-05    8.009289e+07\n",
       "2022-03-06    6.420812e+05\n",
       "2022-03-07    2.012748e+07\n",
       "Name: impuesto, dtype: float64"
      ]
     },
     "execution_count": 152,
     "metadata": {},
     "output_type": "execute_result"
    }
   ],
   "source": [
    "factImportaciones.groupby(\"fecha\")[\"impuesto\"].sum()"
   ]
  },
  {
   "cell_type": "markdown",
   "id": "434dc05c-78e3-48b6-9631-c6a82eafc58a",
   "metadata": {},
   "source": [
    "##### ¿Cuál el valor promedio de la importaciones?"
   ]
  },
  {
   "cell_type": "code",
   "execution_count": 154,
   "id": "ac71ac4b-565f-42aa-8851-887e26252ce2",
   "metadata": {},
   "outputs": [
    {
     "data": {
      "text/plain": [
       "904913.0542316281"
      ]
     },
     "execution_count": 154,
     "metadata": {},
     "output_type": "execute_result"
    }
   ],
   "source": [
    "factImportaciones[\"valor_cif\"].mean()"
   ]
  },
  {
   "cell_type": "markdown",
   "id": "c3c9e803-b099-4344-b5d4-a8ecd9dfb487",
   "metadata": {},
   "source": [
    "El valor CIF promedio de las importaciones es de Q. 904,913.05"
   ]
  },
  {
   "cell_type": "markdown",
   "id": "d3bfe1d1-f293-47b0-9af0-5f1170f2b117",
   "metadata": {},
   "source": [
    "##### ¿Cuál el monto de la importación de mayor valor?"
   ]
  },
  {
   "cell_type": "code",
   "execution_count": 155,
   "id": "81f041b6-9d79-4309-863a-b68fd5d70fe1",
   "metadata": {},
   "outputs": [
    {
     "data": {
      "text/plain": [
       "5199182.49"
      ]
     },
     "execution_count": 155,
     "metadata": {},
     "output_type": "execute_result"
    }
   ],
   "source": [
    "factImportaciones[\"valor_cif\"].max()"
   ]
  },
  {
   "cell_type": "markdown",
   "id": "e94361eb-8517-4bd3-8fbe-8e4021ae6965",
   "metadata": {},
   "source": [
    "La importación de mayor valor es de Q. 5,199,182.49"
   ]
  },
  {
   "cell_type": "markdown",
   "id": "fec703ca-dac5-410d-8a2f-aab3c40747e6",
   "metadata": {},
   "source": [
    "##### ¿Cuál es el monto de la importación de menor valor?"
   ]
  },
  {
   "cell_type": "code",
   "execution_count": 21,
   "id": "fd1ba8a5-f0d5-4025-8253-49615b27476d",
   "metadata": {},
   "outputs": [
    {
     "data": {
      "text/plain": [
       "1964.84"
      ]
     },
     "execution_count": 21,
     "metadata": {},
     "output_type": "execute_result"
    }
   ],
   "source": [
    "factImportaciones[\"valor_cif\"].min()"
   ]
  },
  {
   "cell_type": "markdown",
   "id": "6ad73d5d-b2b5-4db5-b311-2498f18d4244",
   "metadata": {},
   "source": [
    "La importación de menor valor es de Q. 1,964.84"
   ]
  },
  {
   "cell_type": "markdown",
   "id": "c0913464-b286-40f9-b245-ca8b75677c5e",
   "metadata": {},
   "source": [
    "##### ¿Cuánto es el país de donde más importa?"
   ]
  },
  {
   "cell_type": "code",
   "execution_count": 28,
   "id": "2d5c74c3-a932-4f0b-8217-ad60deb335cd",
   "metadata": {},
   "outputs": [
    {
     "data": {
      "text/plain": [
       "pais\n",
       "CHINA                 32465\n",
       "INDIA                 20486\n",
       "JAPON                  9856\n",
       "ESTADOS UNIDOS         5272\n",
       "COREA DEL SUR          2042\n",
       "CANADA                 1491\n",
       "MEXICO                 1127\n",
       "TAILANDIA               873\n",
       "BRASIL                  572\n",
       "ARGENTINA               486\n",
       "REINO UNIDO             457\n",
       "ALEMANIA REP. FED.      360\n",
       "INDONESIA               313\n",
       "TAIWAN                  215\n",
       "AUSTRIA                 117\n",
       "FRANCIA                  74\n",
       "ITALIA                   73\n",
       "BELICE                   21\n",
       "SUECIA                   20\n",
       "HUNGRIA                  16\n",
       "TURQUIA                  16\n",
       "IRLANDA                  15\n",
       "SLOVAKIA                 11\n",
       "BELGICA                   8\n",
       "AUSTRALIA                 5\n",
       "ESPANA                    5\n",
       "SUDAFRICA                 3\n",
       "SUIZA                     3\n",
       "PANAMA                    2\n",
       "COMOROS                   1\n",
       "KENYA                     1\n",
       "COLOMBIA                  1\n",
       "U.R.S.S.                  1\n",
       "Name: pais_sk, dtype: int64"
      ]
     },
     "execution_count": 28,
     "metadata": {},
     "output_type": "execute_result"
    }
   ],
   "source": [
    "dfTemp = pd.DataFrame()\n",
    "dfTemp = pd.concat([dfTemp,factImportaciones[\"pais_sk\"]], axis =1)\n",
    "dfTemp = dfTemp.merge(dimPais, left_on=\"pais_sk\", right_on=\"pais_sk\")\n",
    "dfTemp.groupby(\"pais\")[\"pais_sk\"].count().sort_values(ascending= False)"
   ]
  },
  {
   "cell_type": "markdown",
   "id": "3add63e9-57f0-4a6c-bb3a-7ba7589b5590",
   "metadata": {},
   "source": [
    "El país de donde más se importan vehículos es China"
   ]
  },
  {
   "cell_type": "markdown",
   "id": "dbb3314f-4ecc-4512-812d-3adfad7f5ec6",
   "metadata": {},
   "source": [
    "##### ¿Cuántos vehiculos ingresan por aduana?"
   ]
  },
  {
   "cell_type": "code",
   "execution_count": 33,
   "id": "7d3f1a32-1103-46e8-a4dc-5755439a1543",
   "metadata": {},
   "outputs": [
    {
     "data": {
      "text/plain": [
       "aduana\n",
       "ADUANA PUERTO QUETZAL             57571\n",
       "ADUANA EL CARMEN                   6352\n",
       "ADUANA TECUN UMAN                  4770\n",
       "ADUANA SANTO TOMAS DE CASTILLA     3192\n",
       "ADUANA PUERTO BARRIOS              2478\n",
       "G8, CENTRALSA                       902\n",
       "G1, INTEGRADA                       711\n",
       "ADUANA PEDRO DE ALVARADO            294\n",
       "ADUANA MELCHOR DE MENCOS             36\n",
       "G4, ALSERSA                          19\n",
       "G7, ALCORSA                          19\n",
       "G3, ALPASA                           18\n",
       "VEHICULOS                            16\n",
       "ADUANA LA MESILLA                     8\n",
       "EL CEIBO                              6\n",
       "G5, CEALSA                            6\n",
       "ADUANA SAN CRISTOBAL                  5\n",
       "ADUANA VALLE NUEVO                    4\n",
       "ADUANA LA ERMITA                      1\n",
       "Name: aduana_sk, dtype: int64"
      ]
     },
     "execution_count": 33,
     "metadata": {},
     "output_type": "execute_result"
    }
   ],
   "source": [
    "dfTemp = pd.DataFrame()\n",
    "dfTemp = pd.concat([dfTemp,factImportaciones[\"aduana_sk\"]], axis =1)\n",
    "dfTemp = dfTemp.merge(dimAduana, left_on=\"aduana_sk\", right_on=\"aduana_sk\")\n",
    "dfTemp.groupby(\"aduana\")[\"aduana_sk\"].count().sort_values(ascending= False)"
   ]
  },
  {
   "cell_type": "markdown",
   "id": "a200b000-27a9-45ca-bd04-5c4b29c18627",
   "metadata": {},
   "source": [
    "La aduana donde ingresan más vehículos es la Aduana de Puerto Quetzal"
   ]
  },
  {
   "cell_type": "code",
   "execution_count": null,
   "id": "a2554284-d73f-4f0d-8131-d2a115fa36a5",
   "metadata": {},
   "outputs": [],
   "source": []
  }
 ],
 "metadata": {
  "kernelspec": {
   "display_name": "Python 3 (ipykernel)",
   "language": "python",
   "name": "python3"
  },
  "language_info": {
   "codemirror_mode": {
    "name": "ipython",
    "version": 3
   },
   "file_extension": ".py",
   "mimetype": "text/x-python",
   "name": "python",
   "nbconvert_exporter": "python",
   "pygments_lexer": "ipython3",
   "version": "3.9.7"
  }
 },
 "nbformat": 4,
 "nbformat_minor": 5
}
